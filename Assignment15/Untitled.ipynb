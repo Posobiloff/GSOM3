{
 "cells": [
  {
   "cell_type": "code",
   "execution_count": 3,
   "id": "3c147cd2-d0c4-4ff5-a02e-0152d2b4bb61",
   "metadata": {
    "tags": []
   },
   "outputs": [],
   "source": [
    "from IPython.display import display, Math\n",
    "\n"
   ]
  },
  {
   "cell_type": "markdown",
   "id": "01f05fd9-1cb1-4ffc-804e-344a003ff81d",
   "metadata": {
    "tags": []
   },
   "source": [
    "$$(x+y)^2 = x^2 + 2xy + y^2$$"
   ]
  },
  {
   "cell_type": "code",
   "execution_count": null,
   "id": "cf1c6923-dbb3-4745-bad2-fee0dba3171c",
   "metadata": {},
   "outputs": [],
   "source": []
  }
 ],
 "metadata": {
  "kernelspec": {
   "display_name": "Python 3 (ipykernel)",
   "language": "python",
   "name": "python3"
  },
  "language_info": {
   "codemirror_mode": {
    "name": "ipython",
    "version": 3
   },
   "file_extension": ".py",
   "mimetype": "text/x-python",
   "name": "python",
   "nbconvert_exporter": "python",
   "pygments_lexer": "ipython3",
   "version": "3.10.8"
  }
 },
 "nbformat": 4,
 "nbformat_minor": 5
}
