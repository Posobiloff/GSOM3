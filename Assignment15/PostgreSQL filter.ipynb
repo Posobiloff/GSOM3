{
 "cells": [
  {
   "cell_type": "code",
   "execution_count": 1,
   "id": "93aaadab-9ca0-4d33-b531-62dcd33925d2",
   "metadata": {
    "tags": []
   },
   "outputs": [],
   "source": [
    "# Connection establishment\n",
    "%load_ext sql\n",
    "import os\n",
    "USER = os.environ['POSTGRESQL_USER']\n",
    "PASSWORD = os.environ['POSTGRESQL_PASSWORD']\n",
    "POSTGRESQL_HOST = '10.129.0.25'\n",
    "DBASE_NAME = 'demo'\n",
    "CONNECT_DATA = 'postgresql://{}:{}@{}/{}'.format(\n",
    "    USER,\n",
    "    PASSWORD,\n",
    "    POSTGRESQL_HOST,\n",
    "    DBASE_NAME\n",
    ")"
   ]
  },
  {
   "cell_type": "markdown",
   "id": "4ca6c883-9372-4efb-bac5-160493d234a1",
   "metadata": {
    "tags": []
   },
   "source": [
    "## STEP 1"
   ]
  },
  {
   "cell_type": "code",
   "execution_count": 20,
   "id": "78e22d59-7cb9-4666-bbd3-ef072c53c687",
   "metadata": {
    "tags": []
   },
   "outputs": [
    {
     "name": "stdout",
     "output_type": "stream",
     "text": [
      "4 rows affected.\n"
     ]
    },
    {
     "data": {
      "text/html": [
       "<table>\n",
       "    <thead>\n",
       "        <tr>\n",
       "            <th>ticket_no</th>\n",
       "            <th>departure_airport</th>\n",
       "            <th>departure_airport_name</th>\n",
       "            <th>departure_airport_city</th>\n",
       "            <th>arrival_airport</th>\n",
       "        </tr>\n",
       "    </thead>\n",
       "    <tbody>\n",
       "        <tr>\n",
       "            <td>0005432312164</td>\n",
       "            <td>DME</td>\n",
       "            <td>Domodedovo International Airport</td>\n",
       "            <td>Moscow</td>\n",
       "            <td>EGO</td>\n",
       "        </tr>\n",
       "        <tr>\n",
       "            <td>0005432312164</td>\n",
       "            <td>AAQ</td>\n",
       "            <td>Anapa Vityazevo Airport</td>\n",
       "            <td>Anapa</td>\n",
       "            <td>EGO</td>\n",
       "        </tr>\n",
       "        <tr>\n",
       "            <td>0005432312164</td>\n",
       "            <td>EGO</td>\n",
       "            <td>Belgorod International Airport</td>\n",
       "            <td>Belgorod</td>\n",
       "            <td>DME</td>\n",
       "        </tr>\n",
       "        <tr>\n",
       "            <td>0005432312164</td>\n",
       "            <td>EGO</td>\n",
       "            <td>Belgorod International Airport</td>\n",
       "            <td>Belgorod</td>\n",
       "            <td>AAQ</td>\n",
       "        </tr>\n",
       "    </tbody>\n",
       "</table>"
      ],
      "text/plain": [
       "[('0005432312164', 'DME', 'Domodedovo International Airport', 'Moscow', 'EGO'),\n",
       " ('0005432312164', 'AAQ', 'Anapa Vityazevo Airport', 'Anapa', 'EGO'),\n",
       " ('0005432312164', 'EGO', 'Belgorod International Airport', 'Belgorod', 'DME'),\n",
       " ('0005432312164', 'EGO', 'Belgorod International Airport', 'Belgorod', 'AAQ')]"
      ]
     },
     "execution_count": 20,
     "metadata": {},
     "output_type": "execute_result"
    }
   ],
   "source": [
    "%%sql $CONNECT_DATA\n",
    "SELECT ticket_no,\n",
    "departure_airport, \n",
    "airport_name as departure_airport_name,\n",
    "city as departure_airport_city,\n",
    "arrival_airport\n",
    "FROM Airports \n",
    "JOIN \n",
    "   (SELECT departure_airport, arrival_airport, ticket_no \n",
    "    FROM Flights \n",
    "    JOIN Ticket_flights \n",
    "    ON Ticket_flights.flight_id = Flights.flight_id) as t \n",
    "ON t.departure_airport = Airports.airport_code \n",
    "WHERE ticket_no = '0005432312164'"
   ]
  },
  {
   "cell_type": "markdown",
   "id": "e05ae3ec-53f1-4a11-92fc-967e7f8edf79",
   "metadata": {},
   "source": [
    "## STEP 2"
   ]
  },
  {
   "cell_type": "code",
   "execution_count": 21,
   "id": "b590208c-ec42-411f-863a-8b00398beac0",
   "metadata": {
    "tags": []
   },
   "outputs": [
    {
     "name": "stdout",
     "output_type": "stream",
     "text": [
      "4 rows affected.\n"
     ]
    },
    {
     "data": {
      "text/html": [
       "<table>\n",
       "    <thead>\n",
       "        <tr>\n",
       "            <th>ticket_no</th>\n",
       "            <th>departure_airport</th>\n",
       "            <th>departure_airport_name</th>\n",
       "            <th>departure_airport_city</th>\n",
       "            <th>arrival_airport</th>\n",
       "            <th>arrival_airport_name</th>\n",
       "            <th>arrival_airport_city</th>\n",
       "        </tr>\n",
       "    </thead>\n",
       "    <tbody>\n",
       "        <tr>\n",
       "            <td>0005432312164</td>\n",
       "            <td>DME</td>\n",
       "            <td>Domodedovo International Airport</td>\n",
       "            <td>Moscow</td>\n",
       "            <td>EGO</td>\n",
       "            <td>Belgorod International Airport</td>\n",
       "            <td>Belgorod</td>\n",
       "        </tr>\n",
       "        <tr>\n",
       "            <td>0005432312164</td>\n",
       "            <td>AAQ</td>\n",
       "            <td>Anapa Vityazevo Airport</td>\n",
       "            <td>Anapa</td>\n",
       "            <td>EGO</td>\n",
       "            <td>Belgorod International Airport</td>\n",
       "            <td>Belgorod</td>\n",
       "        </tr>\n",
       "        <tr>\n",
       "            <td>0005432312164</td>\n",
       "            <td>EGO</td>\n",
       "            <td>Belgorod International Airport</td>\n",
       "            <td>Belgorod</td>\n",
       "            <td>DME</td>\n",
       "            <td>Domodedovo International Airport</td>\n",
       "            <td>Moscow</td>\n",
       "        </tr>\n",
       "        <tr>\n",
       "            <td>0005432312164</td>\n",
       "            <td>EGO</td>\n",
       "            <td>Belgorod International Airport</td>\n",
       "            <td>Belgorod</td>\n",
       "            <td>AAQ</td>\n",
       "            <td>Anapa Vityazevo Airport</td>\n",
       "            <td>Anapa</td>\n",
       "        </tr>\n",
       "    </tbody>\n",
       "</table>"
      ],
      "text/plain": [
       "[('0005432312164', 'DME', 'Domodedovo International Airport', 'Moscow', 'EGO', 'Belgorod International Airport', 'Belgorod'),\n",
       " ('0005432312164', 'AAQ', 'Anapa Vityazevo Airport', 'Anapa', 'EGO', 'Belgorod International Airport', 'Belgorod'),\n",
       " ('0005432312164', 'EGO', 'Belgorod International Airport', 'Belgorod', 'DME', 'Domodedovo International Airport', 'Moscow'),\n",
       " ('0005432312164', 'EGO', 'Belgorod International Airport', 'Belgorod', 'AAQ', 'Anapa Vityazevo Airport', 'Anapa')]"
      ]
     },
     "execution_count": 21,
     "metadata": {},
     "output_type": "execute_result"
    }
   ],
   "source": [
    "%%sql $CONNECT_DATA\n",
    "SELECT ticket_no,\n",
    "s.departure_airport, \n",
    "s.departure_airport_name,\n",
    "s.departure_airport_city,\n",
    "s.arrival_airport,\n",
    "airport_name as arrival_airport_name,\n",
    "city as arrival_airport_city\n",
    "FROM Airports\n",
    "JOIN\n",
    "    (SELECT ticket_no,\n",
    "     departure_airport, \n",
    "     airport_name as departure_airport_name,\n",
    "     city as departure_airport_city,\n",
    "     arrival_airport\n",
    "     FROM Airports \n",
    "     JOIN \n",
    "        (SELECT departure_airport, arrival_airport, ticket_no \n",
    "         FROM Flights \n",
    "         JOIN Ticket_flights \n",
    "         ON Ticket_flights.flight_id = Flights.flight_id) as t \n",
    "      ON t.departure_airport = Airports.airport_code \n",
    "      WHERE ticket_no = '0005432312164') as s\n",
    "ON s.arrival_airport = Airports.airport_code "
   ]
  },
  {
   "cell_type": "markdown",
   "id": "4880bd66-7c90-42cf-b825-f38954ee3269",
   "metadata": {},
   "source": [
    "## STEP 3"
   ]
  },
  {
   "cell_type": "code",
   "execution_count": 22,
   "id": "e1fdcef9-47b8-4f2a-b49c-de5532bee400",
   "metadata": {
    "tags": []
   },
   "outputs": [
    {
     "name": "stdout",
     "output_type": "stream",
     "text": [
      "4 rows affected.\n"
     ]
    },
    {
     "data": {
      "text/html": [
       "<table>\n",
       "    <thead>\n",
       "        <tr>\n",
       "            <th>passenger_id</th>\n",
       "            <th>passenger_name</th>\n",
       "            <th>ticket_no</th>\n",
       "            <th>departure_airport</th>\n",
       "            <th>departure_airport_name</th>\n",
       "            <th>departure_airport_city</th>\n",
       "            <th>arrival_airport</th>\n",
       "            <th>arrival_airport_name</th>\n",
       "            <th>arrival_airport_city</th>\n",
       "        </tr>\n",
       "    </thead>\n",
       "    <tbody>\n",
       "        <tr>\n",
       "            <td>0423 646487</td>\n",
       "            <td>ALEKSEY GERASIMOV</td>\n",
       "            <td>0005432312164</td>\n",
       "            <td>DME</td>\n",
       "            <td>Domodedovo International Airport</td>\n",
       "            <td>Moscow</td>\n",
       "            <td>EGO</td>\n",
       "            <td>Belgorod International Airport</td>\n",
       "            <td>Belgorod</td>\n",
       "        </tr>\n",
       "        <tr>\n",
       "            <td>0423 646487</td>\n",
       "            <td>ALEKSEY GERASIMOV</td>\n",
       "            <td>0005432312164</td>\n",
       "            <td>AAQ</td>\n",
       "            <td>Anapa Vityazevo Airport</td>\n",
       "            <td>Anapa</td>\n",
       "            <td>EGO</td>\n",
       "            <td>Belgorod International Airport</td>\n",
       "            <td>Belgorod</td>\n",
       "        </tr>\n",
       "        <tr>\n",
       "            <td>0423 646487</td>\n",
       "            <td>ALEKSEY GERASIMOV</td>\n",
       "            <td>0005432312164</td>\n",
       "            <td>EGO</td>\n",
       "            <td>Belgorod International Airport</td>\n",
       "            <td>Belgorod</td>\n",
       "            <td>DME</td>\n",
       "            <td>Domodedovo International Airport</td>\n",
       "            <td>Moscow</td>\n",
       "        </tr>\n",
       "        <tr>\n",
       "            <td>0423 646487</td>\n",
       "            <td>ALEKSEY GERASIMOV</td>\n",
       "            <td>0005432312164</td>\n",
       "            <td>EGO</td>\n",
       "            <td>Belgorod International Airport</td>\n",
       "            <td>Belgorod</td>\n",
       "            <td>AAQ</td>\n",
       "            <td>Anapa Vityazevo Airport</td>\n",
       "            <td>Anapa</td>\n",
       "        </tr>\n",
       "    </tbody>\n",
       "</table>"
      ],
      "text/plain": [
       "[('0423 646487', 'ALEKSEY GERASIMOV', '0005432312164', 'DME', 'Domodedovo International Airport', 'Moscow', 'EGO', 'Belgorod International Airport', 'Belgorod'),\n",
       " ('0423 646487', 'ALEKSEY GERASIMOV', '0005432312164', 'AAQ', 'Anapa Vityazevo Airport', 'Anapa', 'EGO', 'Belgorod International Airport', 'Belgorod'),\n",
       " ('0423 646487', 'ALEKSEY GERASIMOV', '0005432312164', 'EGO', 'Belgorod International Airport', 'Belgorod', 'DME', 'Domodedovo International Airport', 'Moscow'),\n",
       " ('0423 646487', 'ALEKSEY GERASIMOV', '0005432312164', 'EGO', 'Belgorod International Airport', 'Belgorod', 'AAQ', 'Anapa Vityazevo Airport', 'Anapa')]"
      ]
     },
     "execution_count": 22,
     "metadata": {},
     "output_type": "execute_result"
    }
   ],
   "source": [
    "%%sql $CONNECT_DATA\n",
    "    SELECT passenger_id, \n",
    "    passenger_name, \n",
    "    Tickets.ticket_no, \n",
    "    info.departure_airport,\n",
    "    info.departure_airport_name,\n",
    "    info.departure_airport_city,\n",
    "    info.arrival_airport,\n",
    "    info.arrival_airport_name,\n",
    "    info.arrival_airport_city\n",
    "    FROM Tickets \n",
    "    JOIN\n",
    "        (SELECT ticket_no,\n",
    "        s.departure_airport, \n",
    "        s.departure_airport_name,\n",
    "        s.departure_airport_city,\n",
    "        s.arrival_airport,\n",
    "        airport_name as arrival_airport_name,\n",
    "        city as arrival_airport_city\n",
    "        FROM Airports\n",
    "        JOIN\n",
    "            (SELECT ticket_no,\n",
    "             departure_airport, \n",
    "             airport_name as departure_airport_name,\n",
    "             city as departure_airport_city,\n",
    "             arrival_airport\n",
    "             FROM Airports \n",
    "             JOIN \n",
    "                (SELECT departure_airport, arrival_airport, ticket_no \n",
    "                 FROM Flights \n",
    "                 JOIN Ticket_flights \n",
    "                 ON Ticket_flights.flight_id = Flights.flight_id) as t \n",
    "              ON t.departure_airport = Airports.airport_code \n",
    "              WHERE ticket_no = '0005432312164') as s\n",
    "        ON s.arrival_airport = Airports.airport_code) as info\n",
    "    ON Tickets.ticket_no = info.ticket_no "
   ]
  }
 ],
 "metadata": {
  "kernelspec": {
   "display_name": "Python 3 (ipykernel)",
   "language": "python",
   "name": "python3"
  },
  "language_info": {
   "codemirror_mode": {
    "name": "ipython",
    "version": 3
   },
   "file_extension": ".py",
   "mimetype": "text/x-python",
   "name": "python",
   "nbconvert_exporter": "python",
   "pygments_lexer": "ipython3",
   "version": "3.10.9"
  }
 },
 "nbformat": 4,
 "nbformat_minor": 5
}
