{
 "cells": [
  {
   "cell_type": "code",
   "execution_count": 68,
   "id": "dd9240b9-70cb-4d50-8a05-92ecaf45feee",
   "metadata": {
    "tags": []
   },
   "outputs": [],
   "source": [
    "def rod_profit_max(length, prices):\n",
    "    maximum_value = [0] * (length + 1)\n",
    "    number_of_cuts = [0] * (length + 1)\n",
    "    for i in range(1, length + 1):\n",
    "        maximum_value_obtained = 0\n",
    "        for j in range(i):\n",
    "            if maximum_value_obtained < prices[j] + maximum_value[i - j - 1]:\n",
    "                maximum_value_obtained = prices[j] + maximum_value[i - j - 1]\n",
    "                number_of_cuts[i] = j + 1\n",
    "        maximum_value[i] = maximum_value_obtained\n",
    "\n",
    "    recommended_lengths = []\n",
    "    while length > 0:\n",
    "        recommended_lengths.append(number_of_cuts[length])\n",
    "        length -= number_of_cuts[length]\n",
    "\n",
    "    return f\"The recommended lengths are {recommended_lengths}. You can sell them for {maximum_value[-1]} dollars\""
   ]
  },
  {
   "cell_type": "code",
   "execution_count": 69,
   "id": "a50e03c6-d096-4b13-8067-bf56760f9f79",
   "metadata": {
    "tags": []
   },
   "outputs": [
    {
     "name": "stdout",
     "output_type": "stream",
     "text": [
      "The recommended lengths are [2, 6]. You can sell them for 31 dollars\n"
     ]
    }
   ],
   "source": [
    "#1\n",
    "length = 8\n",
    "prices = [2, 5, 8, 9, 10, 26, 25, 20]\n",
    "print(rod_profit_max(length, prices))"
   ]
  },
  {
   "cell_type": "code",
   "execution_count": 70,
   "id": "04fc6ec7-88ea-4974-be10-b36dcba565f0",
   "metadata": {
    "tags": []
   },
   "outputs": [
    {
     "name": "stdout",
     "output_type": "stream",
     "text": [
      "The recommended lengths are [1, 1, 1, 1, 1, 1, 1, 1]. You can sell them for 720 dollars\n"
     ]
    }
   ],
   "source": [
    "#2\n",
    "length = 8\n",
    "prices = [90, 5, 8, 9, 10, 26, 25, 20]\n",
    "print(rod_profit_max(length, prices)) "
   ]
  },
  {
   "cell_type": "code",
   "execution_count": 71,
   "id": "b074739a-d876-4158-97eb-4171a27f8832",
   "metadata": {
    "tags": []
   },
   "outputs": [
    {
     "name": "stdout",
     "output_type": "stream",
     "text": [
      "The recommended lengths are [2, 8]. You can sell them for 19 dollars\n"
     ]
    }
   ],
   "source": [
    "#3\n",
    "length = 10\n",
    "prices = [1, 3, 5, 7, 9, 12, 13, 16, 17, 17]\n",
    "print(rod_profit_max(length, prices))  "
   ]
  },
  {
   "cell_type": "code",
   "execution_count": null,
   "id": "051cd2d9-af6c-4b3d-a3c9-2be94bcfcf02",
   "metadata": {},
   "outputs": [],
   "source": []
  }
 ],
 "metadata": {
  "kernelspec": {
   "display_name": "Python 3 (ipykernel)",
   "language": "python",
   "name": "python3"
  },
  "language_info": {
   "codemirror_mode": {
    "name": "ipython",
    "version": 3
   },
   "file_extension": ".py",
   "mimetype": "text/x-python",
   "name": "python",
   "nbconvert_exporter": "python",
   "pygments_lexer": "ipython3",
   "version": "3.10.8"
  }
 },
 "nbformat": 4,
 "nbformat_minor": 5
}
