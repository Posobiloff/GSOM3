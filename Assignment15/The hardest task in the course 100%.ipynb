{
 "cells": [
  {
   "cell_type": "code",
   "execution_count": 76,
   "id": "dd9240b9-70cb-4d50-8a05-92ecaf45feee",
   "metadata": {
    "tags": []
   },
   "outputs": [],
   "source": [
    "def rod_profit_max(length, prices):\n",
    "    maximum_value = [0] * (length + 1)\n",
    "    number_of_cuts = [0] * (length + 1)\n",
    "    for i in range(1, length + 1):\n",
    "        maximum_value_obtained = 0\n",
    "        for j in range(i):\n",
    "            if maximum_value_obtained < prices[j] + maximum_value[i - j - 1]:\n",
    "                maximum_value_obtained = prices[j] + maximum_value[i - j - 1]\n",
    "                number_of_cuts[i] = j + 1\n",
    "        maximum_value[i] = maximum_value_obtained\n",
    "        print(number_of_cuts)\n",
    "        print(maximum_value)\n",
    "    recommended_lengths = []\n",
    "    while length > 0:\n",
    "        recommended_lengths.append(number_of_cuts[length])\n",
    "        length -= number_of_cuts[length]\n",
    "\n",
    "    return f\"The recommended lengths are {recommended_lengths}. You can sell them for {maximum_value[-1]} dollars\""
   ]
  },
  {
   "cell_type": "code",
   "execution_count": 77,
   "id": "a50e03c6-d096-4b13-8067-bf56760f9f79",
   "metadata": {
    "tags": []
   },
   "outputs": [
    {
     "name": "stdout",
     "output_type": "stream",
     "text": [
      "[0, 1, 0, 0, 0, 0, 0, 0, 0]\n",
      "[0, 2, 0, 0, 0, 0, 0, 0, 0]\n",
      "[0, 1, 2, 0, 0, 0, 0, 0, 0]\n",
      "[0, 2, 5, 0, 0, 0, 0, 0, 0]\n",
      "[0, 1, 2, 3, 0, 0, 0, 0, 0]\n",
      "[0, 2, 5, 8, 0, 0, 0, 0, 0]\n",
      "[0, 1, 2, 3, 1, 0, 0, 0, 0]\n",
      "[0, 2, 5, 8, 10, 0, 0, 0, 0]\n",
      "[0, 1, 2, 3, 1, 2, 0, 0, 0]\n",
      "[0, 2, 5, 8, 10, 13, 0, 0, 0]\n",
      "[0, 1, 2, 3, 1, 2, 6, 0, 0]\n",
      "[0, 2, 5, 8, 10, 13, 26, 0, 0]\n",
      "[0, 1, 2, 3, 1, 2, 6, 1, 0]\n",
      "[0, 2, 5, 8, 10, 13, 26, 28, 0]\n",
      "[0, 1, 2, 3, 1, 2, 6, 1, 2]\n",
      "[0, 2, 5, 8, 10, 13, 26, 28, 31]\n",
      "The recommended lengths are [2, 6]. You can sell them for 31 dollars\n"
     ]
    }
   ],
   "source": [
    "#1\n",
    "length = 8\n",
    "prices = [2, 5, 8, 9, 10, 26, 25, 20]\n",
    "print(rod_profit_max(length, prices))"
   ]
  },
  {
   "cell_type": "code",
   "execution_count": 78,
   "id": "04fc6ec7-88ea-4974-be10-b36dcba565f0",
   "metadata": {
    "tags": []
   },
   "outputs": [
    {
     "name": "stdout",
     "output_type": "stream",
     "text": [
      "[0, 1, 0, 0, 0, 0, 0, 0, 0]\n",
      "[0, 90, 0, 0, 0, 0, 0, 0, 0]\n",
      "[0, 1, 1, 0, 0, 0, 0, 0, 0]\n",
      "[0, 90, 180, 0, 0, 0, 0, 0, 0]\n",
      "[0, 1, 1, 1, 0, 0, 0, 0, 0]\n",
      "[0, 90, 180, 270, 0, 0, 0, 0, 0]\n",
      "[0, 1, 1, 1, 1, 0, 0, 0, 0]\n",
      "[0, 90, 180, 270, 360, 0, 0, 0, 0]\n",
      "[0, 1, 1, 1, 1, 1, 0, 0, 0]\n",
      "[0, 90, 180, 270, 360, 450, 0, 0, 0]\n",
      "[0, 1, 1, 1, 1, 1, 1, 0, 0]\n",
      "[0, 90, 180, 270, 360, 450, 540, 0, 0]\n",
      "[0, 1, 1, 1, 1, 1, 1, 1, 0]\n",
      "[0, 90, 180, 270, 360, 450, 540, 630, 0]\n",
      "[0, 1, 1, 1, 1, 1, 1, 1, 1]\n",
      "[0, 90, 180, 270, 360, 450, 540, 630, 720]\n",
      "The recommended lengths are [1, 1, 1, 1, 1, 1, 1, 1]. You can sell them for 720 dollars\n"
     ]
    }
   ],
   "source": [
    "#2\n",
    "length = 8\n",
    "prices = [90, 5, 8, 9, 10, 26, 25, 20]\n",
    "print(rod_profit_max(length, prices)) "
   ]
  },
  {
   "cell_type": "code",
   "execution_count": 75,
   "id": "b074739a-d876-4158-97eb-4171a27f8832",
   "metadata": {
    "tags": []
   },
   "outputs": [
    {
     "name": "stdout",
     "output_type": "stream",
     "text": [
      "[0, 1, 0, 0, 0, 0, 0, 0, 0, 0, 0]\n",
      "1\n",
      "[0, 1, 2, 0, 0, 0, 0, 0, 0, 0, 0]\n",
      "3\n",
      "[0, 1, 2, 3, 0, 0, 0, 0, 0, 0, 0]\n",
      "5\n",
      "[0, 1, 2, 3, 4, 0, 0, 0, 0, 0, 0]\n",
      "7\n",
      "[0, 1, 2, 3, 4, 5, 0, 0, 0, 0, 0]\n",
      "9\n",
      "[0, 1, 2, 3, 4, 5, 6, 0, 0, 0, 0]\n",
      "12\n",
      "[0, 1, 2, 3, 4, 5, 6, 1, 0, 0, 0]\n",
      "13\n",
      "[0, 1, 2, 3, 4, 5, 6, 1, 8, 0, 0]\n",
      "16\n",
      "[0, 1, 2, 3, 4, 5, 6, 1, 8, 1, 0]\n",
      "17\n",
      "[0, 1, 2, 3, 4, 5, 6, 1, 8, 1, 2]\n",
      "19\n",
      "The recommended lengths are [2, 8]. You can sell them for 19 dollars\n"
     ]
    }
   ],
   "source": [
    "#3\n",
    "length = 10\n",
    "prices = [1, 3, 5, 7, 9, 12, 13, 16, 17, 17]\n",
    "print(rod_profit_max(length, prices))  "
   ]
  },
  {
   "cell_type": "code",
   "execution_count": null,
   "id": "051cd2d9-af6c-4b3d-a3c9-2be94bcfcf02",
   "metadata": {},
   "outputs": [],
   "source": []
  }
 ],
 "metadata": {
  "kernelspec": {
   "display_name": "Python 3 (ipykernel)",
   "language": "python",
   "name": "python3"
  },
  "language_info": {
   "codemirror_mode": {
    "name": "ipython",
    "version": 3
   },
   "file_extension": ".py",
   "mimetype": "text/x-python",
   "name": "python",
   "nbconvert_exporter": "python",
   "pygments_lexer": "ipython3",
   "version": "3.10.8"
  }
 },
 "nbformat": 4,
 "nbformat_minor": 5
}
