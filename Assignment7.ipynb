{
 "cells": [
  {
   "cell_type": "code",
   "execution_count": 1,
   "id": "4df01f41-752a-4f4a-b63f-c526cdff2f41",
   "metadata": {
    "tags": []
   },
   "outputs": [
    {
     "name": "stdout",
     "output_type": "stream",
     "text": [
      "The Zen of Python, by Tim Peters\n",
      "\n",
      "Beautiful is better than ugly.\n",
      "Explicit is better than implicit.\n",
      "Simple is better than complex.\n",
      "Complex is better than complicated.\n",
      "Flat is better than nested.\n",
      "Sparse is better than dense.\n",
      "Readability counts.\n",
      "Special cases aren't special enough to break the rules.\n",
      "Although practicality beats purity.\n",
      "Errors should never pass silently.\n",
      "Unless explicitly silenced.\n",
      "In the face of ambiguity, refuse the temptation to guess.\n",
      "There should be one-- and preferably only one --obvious way to do it.\n",
      "Although that way may not be obvious at first unless you're Dutch.\n",
      "Now is better than never.\n",
      "Although never is often better than *right* now.\n",
      "If the implementation is hard to explain, it's a bad idea.\n",
      "If the implementation is easy to explain, it may be a good idea.\n",
      "Namespaces are one honking great idea -- let's do more of those!\n"
     ]
    }
   ],
   "source": [
    "import this"
   ]
  },
  {
   "cell_type": "code",
   "execution_count": 3,
   "id": "d5a1cb4d-b26d-41bc-a3fa-31d63ecd2dc1",
   "metadata": {},
   "outputs": [
    {
     "name": "stdout",
     "output_type": "stream",
     "text": [
      "Now we're going to calculate discriminant for a*x2+b*x+c=0\n"
     ]
    },
    {
     "name": "stdin",
     "output_type": "stream",
     "text": [
      "Input variable a 1\n",
      "Input variable b 5\n",
      "Input variable c 1\n"
     ]
    },
    {
     "name": "stdout",
     "output_type": "stream",
     "text": [
      "-4.7912878474779195\n",
      "-0.20871215252208009\n"
     ]
    }
   ],
   "source": [
    "# 1. INT, FLOAT. The simple code that computes the discriminant using only int numbers.\n",
    "print(\"Now we're going to calculate discriminant for a*x2+b*x+c=0\")\n",
    "a = int(input(\"Input variable a\"))\n",
    "b = int(input(\"Input variable b\"))\n",
    "c = int(input(\"Input variable c\"))\n",
    "D = b * b - 4*a*c\n",
    "if D < 0:\n",
    "    print (\"No roots, D<0\")\n",
    "elif D == 0:\n",
    "    x = -b/(2*a)\n",
    "    print (x)\n",
    "else:\n",
    "    x1 = float((-b-D**0.5)/(2*a))\n",
    "    x2 = float((-b+D**0.5)/(2*a))\n",
    "    print (x1)\n",
    "    print (x2)"
   ]
  },
  {
   "cell_type": "code",
   "execution_count": 6,
   "id": "44b2cc0d-ad71-45ce-b553-20efd2d1277e",
   "metadata": {},
   "outputs": [
    {
     "name": "stdout",
     "output_type": "stream",
     "text": [
      "(4+7j)\n"
     ]
    }
   ],
   "source": [
    "# 2. COMPLEX, INT. The simple code that creates a comlex number and then demonstatrtes it.\n",
    "a = 4\n",
    "b = 7\n",
    "c = complex(a, b)\n",
    "print (c)"
   ]
  },
  {
   "cell_type": "code",
   "execution_count": 8,
   "id": "d3421740-ab4e-4805-bc53-2562ca64a70a",
   "metadata": {
    "tags": []
   },
   "outputs": [
    {
     "name": "stdin",
     "output_type": "stream",
     "text": [
      "Please, input a number for rounding 2.891928989828\n",
      "Please, input the number of digits for rounding 2\n"
     ]
    },
    {
     "name": "stdout",
     "output_type": "stream",
     "text": [
      "2.89\n"
     ]
    }
   ],
   "source": [
    "# 3. FLOAT, INT. A simple code that rounds the float input to n digits\n",
    "a = float(input(\"Please, input a number for rounding\")) \n",
    "n = int(input(\"Please, input the number of digits for rounding\"))\n",
    "print(round(a, n))"
   ]
  },
  {
   "cell_type": "code",
   "execution_count": 13,
   "id": "f51a47dd-44a3-48e5-9f6d-827b7f7d2177",
   "metadata": {
    "tags": []
   },
   "outputs": [
    {
     "name": "stdin",
     "output_type": "stream",
     "text": [
      "Please, input number for juxtaposition 9\n"
     ]
    },
    {
     "name": "stdout",
     "output_type": "stream",
     "text": [
      "The number is equal to 0 =  False\n",
      "The number is greater than 0 =  True\n",
      "The number is less than 0 =  False\n"
     ]
    }
   ],
   "source": [
    "# 4. BOOLEANS, FLOAT. A simple code that juxtapose a number and the predifined 0 and outputs 1)if the input \n",
    "# number is equal to 0, 2)if the  number is greater than 0 or 3)vice verse\n",
    "a = 0\n",
    "b = float(input(\"Please, input number for juxtaposition\"))\n",
    "c = a==b\n",
    "d = a<b\n",
    "e = a>b\n",
    "print (\"The number is equal to 0 = \", c)\n",
    "print (\"The number is greater than 0 = \", d)\n",
    "print (\"The number is less than 0 = \", e)"
   ]
  },
  {
   "cell_type": "code",
   "execution_count": 23,
   "id": "3f098be3-3fc9-42e2-af66-5e22e5919143",
   "metadata": {
    "tags": []
   },
   "outputs": [
    {
     "name": "stdin",
     "output_type": "stream",
     "text": [
      "Start the dialogue! My gallant crew, good morning\n"
     ]
    },
    {
     "name": "stdout",
     "output_type": "stream",
     "text": [
      "Sir, good morning!\n"
     ]
    },
    {
     "name": "stdin",
     "output_type": "stream",
     "text": [
      "Carry on! I hope you’re all quite well\n"
     ]
    },
    {
     "name": "stdout",
     "output_type": "stream",
     "text": [
      "Quite well; and you, sir?\n"
     ]
    },
    {
     "name": "stdin",
     "output_type": "stream",
     "text": [
      "Carry on! I am in reasonable health, and happy to meet you all once more\n"
     ]
    },
    {
     "name": "stdout",
     "output_type": "stream",
     "text": [
      "You do us proud, sir!\n"
     ]
    }
   ],
   "source": [
    "# 5. STRING. A simple code that depicts the dialogue of the Captain and his Crew \n",
    "# from the opera \"H.M.S. Pinafore\" by Gilbert and Sullivan. It offers the user to input \n",
    "# the right phrases to acquire the right answers\n",
    "a = input(\"Start the dialogue!\")\n",
    "if a == \"My gallant crew, good morning\":\n",
    "    print (\"Sir, good morning!\")\n",
    "else:\n",
    "    print (\"You've done it wrong. Please, try again\")\n",
    "b = input(\"Carry on!\")\n",
    "if b == \"I hope you’re all quite well\":\n",
    "    print (\"Quite well; and you, sir?\")\n",
    "else:\n",
    "    print (\"You've done it wrong. Please, try again\")\n",
    "c = input(\"Carry on!\")\n",
    "if c == \"I am in reasonable health, and happy to meet you all once more\":\n",
    "    print (\"You do us proud, sir!\")\n",
    "else:\n",
    "    print (\"You've done it wrong. Please, try again\")"
   ]
  },
  {
   "cell_type": "code",
   "execution_count": 34,
   "id": "da51ad6b-d4f4-4e6b-a601-8f10eb02c59f",
   "metadata": {
    "tags": []
   },
   "outputs": [
    {
     "name": "stdin",
     "output_type": "stream",
     "text": [
      "Please, input you words. Every word should be divided by 1 space walking sleeping\n"
     ]
    },
    {
     "name": "stdout",
     "output_type": "stream",
     "text": [
      "My last summer can be defined in two words: walking and sleeping\n"
     ]
    }
   ],
   "source": [
    "# 6. LIST, STRING. A simple code that makes silly outputs via merging the first and the last word in the output\n",
    "a = list(input(\"Please, input you words. Every word should be divided by 1 space\").split(\" \"))\n",
    "print (\"My last summer can be defined in two words:\", a[0], \"and\", a[-1])"
   ]
  },
  {
   "cell_type": "code",
   "execution_count": 40,
   "id": "32f8e52f-2d1c-40ab-a4df-830e1ed9651f",
   "metadata": {
    "tags": []
   },
   "outputs": [
    {
     "name": "stdin",
     "output_type": "stream",
     "text": [
      "Input a number from 0 to 4 to behold your future 4\n"
     ]
    },
    {
     "name": "stdout",
     "output_type": "stream",
     "text": [
      "Today you should do your homework!\n",
      "<class 'tuple'>\n"
     ]
    }
   ],
   "source": [
    "# 7. TUPLES, INT. A simple code that creates a tuple from some phrases \n",
    "# and asks the user to blindly choose his preditionn for a day\n",
    "a = (\"Today will be a great day!\", \n",
    "          \"Today you should struggle a bit and you'll find the treasure!\", \n",
    "          \"Today is your relaxation day\",\n",
    "          \"Today is the time to watch Fallout series\",\n",
    "          \"Today you should do your homework!\")\n",
    "b = int(input(\"Input a number from 0 to 4 to behold your future\"))\n",
    "print(a[b])\n",
    "print(type(a))"
   ]
  },
  {
   "cell_type": "code",
   "execution_count": 45,
   "id": "02b6abf3-4c4f-4c0d-a73b-da2e5a7e9cb5",
   "metadata": {
    "tags": []
   },
   "outputs": [
    {
     "name": "stdin",
     "output_type": "stream",
     "text": [
      "How many days without interruptions? 3\n"
     ]
    },
    {
     "name": "stdout",
     "output_type": "stream",
     "text": [
      "Great! Carry on and smile!\n"
     ]
    }
   ],
   "source": [
    "# 8. INT. A simple code that outputs the number of days a user goes for a walk regularly\n",
    "b = int(input(\"How many days without interruptions?\"))\n",
    "if b < 0:\n",
    "    print(\"Hmmm... How could it be possible??\")\n",
    "elif b <= 1:\n",
    "    print(\"You should try harder! You can do it!\")\n",
    "else:\n",
    "    print(\"Great! Carry on and smile!\")"
   ]
  },
  {
   "cell_type": "code",
   "execution_count": 49,
   "id": "dfcfbaf8-9c19-4049-8d5a-98399ee09a9f",
   "metadata": {
    "tags": []
   },
   "outputs": [
    {
     "name": "stdout",
     "output_type": "stream",
     "text": [
      "You should match your white jacket with your gold shirt and with your yellow tie. Looking spiffy!\n"
     ]
    }
   ],
   "source": [
    "# 9. LIST, STRING. A simple code that could help you match your tie, your shirt and your jacket. \n",
    "# Of course it does it  randomly)\n",
    "import random\n",
    "shirts = [\"red\", \"yellow\", \"blue\", \n",
    "              \"navy\", \"orange\", \"green\", \n",
    "              \"violet\", \"scarlet\", \"charcoal grey\", \n",
    "              \"white\", \"black\", \"gold\", \"silver\"]\n",
    "ties = [\"red\", \"yellow\", \"blue\", \n",
    "              \"navy\", \"orange\", \"green\", \n",
    "              \"violet\", \"scarlet\", \"charcoal grey\", \n",
    "              \"white\", \"black\", \"gold\", \"silver\"]\n",
    "jackets = [\"red\", \"yellow\", \"blue\", \n",
    "              \"navy\", \"orange\", \"green\", \n",
    "              \"violet\", \"scarlet\", \"charcoal grey\", \n",
    "              \"white\", \"black\", \"gold\", \"silver\"]\n",
    "print (\"You should match your\", random.choice(jackets), \"jacket with your\", \n",
    "       random.choice(shirts), \"shirt and with your\", random.choice(ties), \"tie.\", \"Looking spiffy!\")"
   ]
  },
  {
   "cell_type": "code",
   "execution_count": 52,
   "id": "e5ee3058-4aa2-4adf-94d8-29d0a64c71d3",
   "metadata": {
    "tags": []
   },
   "outputs": [
    {
     "name": "stdout",
     "output_type": "stream",
     "text": [
      "(-4+2j)\n"
     ]
    }
   ],
   "source": [
    "# 10. COMPLEX. A simple code that only make basic operations with complex numbers\n",
    "a = complex(1, 4)\n",
    "b = complex(2, 6)\n",
    "c = complex(7, 8)\n",
    "print (a+b-c)"
   ]
  },
  {
   "cell_type": "code",
   "execution_count": 55,
   "id": "40dc00b4-9bbb-40d4-bddd-bfc53645a8c4",
   "metadata": {
    "tags": []
   },
   "outputs": [
    {
     "name": "stdin",
     "output_type": "stream",
     "text": [
      "Input catheter a 6\n",
      "Input catheter b 8\n"
     ]
    },
    {
     "name": "stdout",
     "output_type": "stream",
     "text": [
      "The hypotenuse there is 10.0\n"
     ]
    }
   ],
   "source": [
    "# 11. INT. A simple code that calculates the hypotenuse of a right triangle by catheters\n",
    "a = int(input(\"Input catheter a\"))\n",
    "b = int(input(\"Input catheter b\"))\n",
    "c = (a*a+b*b)**0.5\n",
    "print (\"The hypotenuse there is\", c)"
   ]
  },
  {
   "cell_type": "code",
   "execution_count": 56,
   "id": "ad794096-cdee-49ef-b2a5-1285b67ee6f2",
   "metadata": {
    "tags": []
   },
   "outputs": [
    {
     "name": "stdin",
     "output_type": "stream",
     "text": [
      "Input mass 3\n",
      "Input acceleration 4\n"
     ]
    },
    {
     "name": "stdout",
     "output_type": "stream",
     "text": [
      "The power (F) is 12 newtons\n"
     ]
    }
   ],
   "source": [
    "# 12. FLOAT. A simple code that calculates the power (F) using mass and acceleration\n",
    "m = int(input(\"Input mass\"))\n",
    "a = int(input(\"Input acceleration\"))\n",
    "f = m*a\n",
    "print (\"The power (F) is\", f, \"newtons\")"
   ]
  },
  {
   "cell_type": "code",
   "execution_count": null,
   "id": "0705104b-a08e-48ef-9ee5-5fcc939270ba",
   "metadata": {},
   "outputs": [],
   "source": []
  }
 ],
 "metadata": {
  "kernelspec": {
   "display_name": "Python 3 (ipykernel)",
   "language": "python",
   "name": "python3"
  },
  "language_info": {
   "codemirror_mode": {
    "name": "ipython",
    "version": 3
   },
   "file_extension": ".py",
   "mimetype": "text/x-python",
   "name": "python",
   "nbconvert_exporter": "python",
   "pygments_lexer": "ipython3",
   "version": "3.10.9"
  }
 },
 "nbformat": 4,
 "nbformat_minor": 5
}
