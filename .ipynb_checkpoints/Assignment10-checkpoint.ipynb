{
 "cells": [
  {
   "cell_type": "code",
   "execution_count": 6,
   "id": "f2926edb-9003-4192-bb77-5a745e1254eb",
   "metadata": {
    "tags": []
   },
   "outputs": [],
   "source": [
    "import find_two_smallest as fts\n",
    "import Integers_difiner as Id\n",
    "my_file = \"The results\"\n",
    "file = open(my_file, 'w')\n",
    "for i in Id.lists_int:\n",
    "     small = fts.find_two_samllest(i)\n",
    "     file.write(f\"The two smallest numbers in {i} are {small} \\n\")\n",
    "file.close()"
   ]
  },
  {
   "cell_type": "code",
   "execution_count": 5,
   "id": "93911ffe-0a66-4280-a078-1b5ee071fc57",
   "metadata": {
    "tags": []
   },
   "outputs": [],
   "source": [
    "class Books:\n",
    "    \"\"\"This class contains infoemation about some animals\"\"\"\n",
    "    \n",
    "    def __init__(self, title, author, year, price, stoplist, genre):\n",
    "        self.title = title\n",
    "        self.author = author\n",
    "        self.year = year\n",
    "        self.price = price\n",
    "        self.stoplist = stoplist\n",
    "        self.genre = genre\n",
    "    def get_info(self):\n",
    "        return (f\"We know that about this book: {self.author}, {self.title}, {self.year}, {self.price}, {self.stoplist}\")\n",
    "    def most_expensive(self, prices):\n",
    "        most_exp = None\n",
    "        price_most_exp = 0\n",
    "        for i in prices:\n",
    "            if i.price > price_most_exp:\n",
    "                price_most_exp = i.price\n",
    "                most_exp = i\n",
    "        print (f\"The most expensive book in the list is {i.title} by {i.author}\")\n",
    "    \n",
    "        "
   ]
  },
  {
   "cell_type": "code",
   "execution_count": 2,
   "id": "80cf31b6-4e4f-4089-b1ce-ca8a0d7acc79",
   "metadata": {
    "tags": []
   },
   "outputs": [
    {
     "data": {
      "text/plain": [
       "'The most expensive book in the list is Revolution by Lenin'"
      ]
     },
     "execution_count": 2,
     "metadata": {},
     "output_type": "execute_result"
    }
   ],
   "source": [
    "import Library as lib\n",
    "my_books = []\n",
    "my_books.append (lib.Book(\"Mein Kampf\", \"Adolf Hitler\", \"1929\", 11, True, \"fantasy\"))\n",
    "my_books.append (lib.Book(\"Revolution\", \"Lenin\", \"1929\", 188888, True, \"fantasy\"))\n",
    "my_books.append (lib.Book(\"Sex\", \"Freud\", \"1929\", 1000, True, \"fantasy\"))\n",
    "my_books[2].most_expensive(my_books)"
   ]
  },
  {
   "cell_type": "code",
   "execution_count": null,
   "id": "66e0dd5e-d726-4a23-83d6-dc4c8bc81ac9",
   "metadata": {},
   "outputs": [],
   "source": []
  }
 ],
 "metadata": {
  "kernelspec": {
   "display_name": "Python 3 (ipykernel)",
   "language": "python",
   "name": "python3"
  },
  "language_info": {
   "codemirror_mode": {
    "name": "ipython",
    "version": 3
   },
   "file_extension": ".py",
   "mimetype": "text/x-python",
   "name": "python",
   "nbconvert_exporter": "python",
   "pygments_lexer": "ipython3",
   "version": "3.10.9"
  }
 },
 "nbformat": 4,
 "nbformat_minor": 5
}
