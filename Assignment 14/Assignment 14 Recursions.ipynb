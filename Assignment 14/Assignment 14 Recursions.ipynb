{
 "cells": [
  {
   "cell_type": "code",
   "execution_count": 25,
   "id": "5f1190fd-b2ee-46ab-915f-bce7ccaee015",
   "metadata": {
    "tags": []
   },
   "outputs": [],
   "source": [
    "#2.1 a function that for a given natural number n, calculates the sum of its digits\n",
    "\n",
    "def digits_sum(number):\n",
    "    if number < 10:\n",
    "        return number\n",
    "    else:\n",
    "        return number % 10 + digits_sum(number // 10)\n",
    "\n"
   ]
  },
  {
   "cell_type": "code",
   "execution_count": 29,
   "id": "09bd06a2-f502-45ce-8f64-7bdf2c7869e3",
   "metadata": {
    "tags": []
   },
   "outputs": [
    {
     "name": "stdout",
     "output_type": "stream",
     "text": [
      "15\n",
      "5\n",
      "40\n",
      "7\n"
     ]
    }
   ],
   "source": [
    "print(digits_sum(12345))\n",
    "print(digits_sum(14))\n",
    "print(digits_sum(1834987))\n",
    "print(digits_sum(1123))"
   ]
  },
  {
   "cell_type": "code",
   "execution_count": 40,
   "id": "ee54aac6-fd42-4ceb-8d0d-496277ae81b4",
   "metadata": {
    "tags": []
   },
   "outputs": [],
   "source": [
    "#2.2. a function that for a given natural number n, calculates the sum of all numbers from 0 up to and including the given number\n",
    "def progress_sum(number):\n",
    "    if number == 0:\n",
    "        return number\n",
    "    else:\n",
    "        return number + progress_sum(number-1)"
   ]
  },
  {
   "cell_type": "code",
   "execution_count": 45,
   "id": "70cc8295-8d3e-4070-b049-2abe0011e4f5",
   "metadata": {
    "tags": []
   },
   "outputs": [
    {
     "name": "stdout",
     "output_type": "stream",
     "text": [
      "80200\n",
      "21\n",
      "6\n",
      "5050\n"
     ]
    }
   ],
   "source": [
    "print(progress_sum(400))\n",
    "print(progress_sum(6))\n",
    "print(progress_sum(3))\n",
    "print(progress_sum(100))"
   ]
  },
  {
   "cell_type": "code",
   "execution_count": 48,
   "id": "fb48b962-7094-48b8-95c1-1964c64603db",
   "metadata": {
    "tags": []
   },
   "outputs": [],
   "source": [
    "#2.3. Fibonacci series: a recursive function that calculates the Fibonacci value for a given number.\n",
    "def fibonacci_series(number):\n",
    "    if number == 0:\n",
    "        return 0\n",
    "    elif number == 1:\n",
    "        return 1\n",
    "    else:\n",
    "        return fibonacci_series(number-1)+fibonacci_series(number-2)"
   ]
  },
  {
   "cell_type": "code",
   "execution_count": 52,
   "id": "9d354260-99fe-4e81-b42d-03f872fe3a55",
   "metadata": {
    "tags": []
   },
   "outputs": [
    {
     "name": "stdout",
     "output_type": "stream",
     "text": [
      "0\n",
      "1\n",
      "1\n",
      "2\n",
      "3\n",
      "5\n",
      "8\n",
      "13\n",
      "21\n",
      "34\n"
     ]
    }
   ],
   "source": [
    "print(fibonacci_series(0))\n",
    "print(fibonacci_series(1))\n",
    "print(fibonacci_series(2))\n",
    "print(fibonacci_series(3))\n",
    "print(fibonacci_series(4))\n",
    "print(fibonacci_series(5))\n",
    "print(fibonacci_series(6))\n",
    "print(fibonacci_series(7))\n",
    "print(fibonacci_series(8))\n",
    "print(fibonacci_series(9))"
   ]
  },
  {
   "cell_type": "code",
   "execution_count": null,
   "id": "aa5b3f72-5281-49f4-8dfc-238916e44d26",
   "metadata": {},
   "outputs": [],
   "source": []
  }
 ],
 "metadata": {
  "kernelspec": {
   "display_name": "Python 3 (ipykernel)",
   "language": "python",
   "name": "python3"
  },
  "language_info": {
   "codemirror_mode": {
    "name": "ipython",
    "version": 3
   },
   "file_extension": ".py",
   "mimetype": "text/x-python",
   "name": "python",
   "nbconvert_exporter": "python",
   "pygments_lexer": "ipython3",
   "version": "3.10.9"
  }
 },
 "nbformat": 4,
 "nbformat_minor": 5
}
