{
 "cells": [
  {
   "cell_type": "code",
   "execution_count": 6,
   "id": "f2926edb-9003-4192-bb77-5a745e1254eb",
   "metadata": {
    "tags": []
   },
   "outputs": [],
   "source": [
    "import find_two_smallest as fts\n",
    "import Integers_difiner as Id\n",
    "my_file = \"The results\"\n",
    "file = open(my_file, 'w')\n",
    "for i in Id.lists_int:\n",
    "     small = fts.find_two_samllest(i)\n",
    "     file.write(f\"The two smallest numbers in {i} are {small} \\n\")\n",
    "file.close()"
   ]
  },
  {
   "cell_type": "code",
   "execution_count": 4,
   "id": "80cf31b6-4e4f-4089-b1ce-ca8a0d7acc79",
   "metadata": {
    "tags": []
   },
   "outputs": [],
   "source": [
    "import Library as lib\n",
    "my_books = []\n",
    "my_books.append (lib.Book(\"Leviathan\", \"Hobbes\", 1651, 2000, False, \"philosophy\"))\n",
    "my_books.append (lib.Book(\"De Coelesti Hierarchia\", \"Dionysius the Areopagite\", 500, 4000, True, \"religion\"))\n",
    "my_books.append (lib.Book(\"Summa Theologica\", \"Thomas Aquinas\", 1274, 5000, False, \"religion\"))\n",
    "my_books.append (lib.Book(\"Anecdota\", \"Procopius Caesariensis\", 558, 1000, True, \"history\"))\n",
    "my_books.append (lib.Book(\"Confessiones\", \"Augustine of Hippo\", 400, 6000, False, \"philosophy, religion\"))\n",
    "my_books.append (lib.Book(\"Antiquitates Iudaicae\", \"Flavius Josephus\", 94, 7000, True, \"history\"))\n",
    "my_books.append (lib.Book(\"Omnia Hebraicolatina\", \"Flavius Josephus\", 75, 8000, False, \"history\"))\n",
    "my_books.append (lib.Book(\"Patrologia Graeca\", \"Church Fathers\", 1857, 4000, True, \"religion\"))\n",
    "my_books.append (lib.Book(\"De consolatione philosophiae\", \"\tBoethius\", 524, 3000, False, \"philosophy\"))"
   ]
  },
  {
   "cell_type": "code",
   "execution_count": 15,
   "id": "d418b0eb-e929-42ed-aba6-ad85008f9322",
   "metadata": {
    "tags": []
   },
   "outputs": [
    {
     "data": {
      "text/plain": [
       "False"
      ]
     },
     "execution_count": 15,
     "metadata": {},
     "output_type": "execute_result"
    }
   ],
   "source": [
    "#censor(author_name, boolean) method\n",
    "my_books[0].censor(\"Hobbes\", False)\n",
    "my_books[0].stoplist"
   ]
  },
  {
   "cell_type": "code",
   "execution_count": 16,
   "id": "85f2c3d4-a2f7-48cd-a511-f46ae0ba6f1c",
   "metadata": {
    "tags": []
   },
   "outputs": [
    {
     "data": {
      "text/plain": [
       "False"
      ]
     },
     "execution_count": 16,
     "metadata": {},
     "output_type": "execute_result"
    }
   ],
   "source": [
    "#censor(author_name, boolean) method\n",
    "my_books[1].censor(\"Justinian\", True)\n",
    "my_books[1].stoplist"
   ]
  },
  {
   "cell_type": "code",
   "execution_count": 17,
   "id": "158a9140-40eb-475a-937a-6f545cca842b",
   "metadata": {
    "tags": []
   },
   "outputs": [
    {
     "data": {
      "text/plain": [
       "False"
      ]
     },
     "execution_count": 17,
     "metadata": {},
     "output_type": "execute_result"
    }
   ],
   "source": [
    "#censor(author_name, boolean) method\n",
    "my_books[2].censor(\"Thomas Aquinas\", False)\n",
    "my_books[2].stoplist"
   ]
  },
  {
   "cell_type": "code",
   "execution_count": null,
   "id": "5061a089-f81f-4a9d-9014-0de6610185dd",
   "metadata": {},
   "outputs": [],
   "source": []
  }
 ],
 "metadata": {
  "kernelspec": {
   "display_name": "Python 3 (ipykernel)",
   "language": "python",
   "name": "python3"
  },
  "language_info": {
   "codemirror_mode": {
    "name": "ipython",
    "version": 3
   },
   "file_extension": ".py",
   "mimetype": "text/x-python",
   "name": "python",
   "nbconvert_exporter": "python",
   "pygments_lexer": "ipython3",
   "version": "3.10.9"
  }
 },
 "nbformat": 4,
 "nbformat_minor": 5
}
