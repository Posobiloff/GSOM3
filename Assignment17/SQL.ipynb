{
 "cells": [
  {
   "cell_type": "code",
   "execution_count": 1,
   "id": "2de15834-f8c1-49f0-8b26-0ee175a3d79d",
   "metadata": {
    "tags": []
   },
   "outputs": [
    {
     "name": "stdout",
     "output_type": "stream",
     "text": [
      "Requirement already satisfied: ipython-sql in /opt/conda/lib/python3.10/site-packages (0.5.0)\n",
      "Requirement already satisfied: ipython-genutils in /opt/conda/lib/python3.10/site-packages (from ipython-sql) (0.2.0)\n",
      "Requirement already satisfied: sqlparse in /opt/conda/lib/python3.10/site-packages (from ipython-sql) (0.4.4)\n",
      "Requirement already satisfied: sqlalchemy>=2.0 in /opt/conda/lib/python3.10/site-packages (from ipython-sql) (2.0.7)\n",
      "Requirement already satisfied: ipython in /opt/conda/lib/python3.10/site-packages (from ipython-sql) (8.11.0)\n",
      "Requirement already satisfied: prettytable in /opt/conda/lib/python3.10/site-packages (from ipython-sql) (3.7.0)\n",
      "Requirement already satisfied: six in /opt/conda/lib/python3.10/site-packages (from ipython-sql) (1.16.0)\n",
      "Requirement already satisfied: greenlet!=0.4.17 in /opt/conda/lib/python3.10/site-packages (from sqlalchemy>=2.0->ipython-sql) (2.0.2)\n",
      "Requirement already satisfied: typing-extensions>=4.2.0 in /opt/conda/lib/python3.10/site-packages (from sqlalchemy>=2.0->ipython-sql) (4.5.0)\n",
      "Requirement already satisfied: matplotlib-inline in /opt/conda/lib/python3.10/site-packages (from ipython->ipython-sql) (0.1.6)\n",
      "Requirement already satisfied: decorator in /opt/conda/lib/python3.10/site-packages (from ipython->ipython-sql) (5.1.1)\n",
      "Requirement already satisfied: pickleshare in /opt/conda/lib/python3.10/site-packages (from ipython->ipython-sql) (0.7.5)\n",
      "Requirement already satisfied: pexpect>4.3 in /opt/conda/lib/python3.10/site-packages (from ipython->ipython-sql) (4.8.0)\n",
      "Requirement already satisfied: backcall in /opt/conda/lib/python3.10/site-packages (from ipython->ipython-sql) (0.2.0)\n",
      "Requirement already satisfied: stack-data in /opt/conda/lib/python3.10/site-packages (from ipython->ipython-sql) (0.6.2)\n",
      "Requirement already satisfied: pygments>=2.4.0 in /opt/conda/lib/python3.10/site-packages (from ipython->ipython-sql) (2.14.0)\n",
      "Requirement already satisfied: traitlets>=5 in /opt/conda/lib/python3.10/site-packages (from ipython->ipython-sql) (5.9.0)\n",
      "Requirement already satisfied: prompt-toolkit!=3.0.37,<3.1.0,>=3.0.30 in /opt/conda/lib/python3.10/site-packages (from ipython->ipython-sql) (3.0.38)\n",
      "Requirement already satisfied: jedi>=0.16 in /opt/conda/lib/python3.10/site-packages (from ipython->ipython-sql) (0.18.2)\n",
      "Requirement already satisfied: wcwidth in /opt/conda/lib/python3.10/site-packages (from prettytable->ipython-sql) (0.2.6)\n",
      "Requirement already satisfied: parso<0.9.0,>=0.8.0 in /opt/conda/lib/python3.10/site-packages (from jedi>=0.16->ipython->ipython-sql) (0.8.3)\n",
      "Requirement already satisfied: ptyprocess>=0.5 in /opt/conda/lib/python3.10/site-packages (from pexpect>4.3->ipython->ipython-sql) (0.7.0)\n",
      "Requirement already satisfied: pure-eval in /opt/conda/lib/python3.10/site-packages (from stack-data->ipython->ipython-sql) (0.2.2)\n",
      "Requirement already satisfied: executing>=1.2.0 in /opt/conda/lib/python3.10/site-packages (from stack-data->ipython->ipython-sql) (1.2.0)\n",
      "Requirement already satisfied: asttokens>=2.1.0 in /opt/conda/lib/python3.10/site-packages (from stack-data->ipython->ipython-sql) (2.2.1)\n",
      "\u001b[33mWARNING: There was an error checking the latest version of pip.\u001b[0m\u001b[33m\n",
      "\u001b[0m"
     ]
    }
   ],
   "source": [
    "!pip install ipython-sql\n",
    "%load_ext sql\n",
    "import os\n",
    "USER = os.environ['POSTGRESQL_USER']\n",
    "PASSWORD = os.environ['POSTGRESQL_PASSWORD']\n",
    "POSTGRESQL_HOST = '10.129.0.25'\n",
    "DBASE_NAME = 'demo'\n",
    "CONNECT_DATA = 'postgresql://{}:{}@{}/{}'.format(\n",
    "    USER,\n",
    "    PASSWORD,\n",
    "    POSTGRESQL_HOST,\n",
    "    DBASE_NAME\n",
    ")"
   ]
  },
  {
   "cell_type": "code",
   "execution_count": 47,
   "id": "ad313b57-8ac8-45b6-a7dc-a56ab8fa8a91",
   "metadata": {
    "tags": []
   },
   "outputs": [],
   "source": [
    "#ticket_no  0005432312164, find: who and where flew\n",
    "#Provide solutions in 3 ways:\n",
    "#- a query with subqueries (nested queries)\n",
    "#- a query with no subqueries and no joins\n",
    "#- a query with joins"
   ]
  },
  {
   "cell_type": "markdown",
   "id": "1b9ce7fd-4879-42d5-a722-966ea2b5c6cb",
   "metadata": {
    "tags": []
   },
   "source": [
    "**1. A query with subqueries (nested queries)**"
   ]
  },
  {
   "cell_type": "code",
   "execution_count": 56,
   "id": "3ac4950b-f641-4436-aa48-e0ef07ab64b4",
   "metadata": {
    "tags": []
   },
   "outputs": [
    {
     "name": "stdout",
     "output_type": "stream",
     "text": [
      "4 rows affected.\n"
     ]
    },
    {
     "data": {
      "text/html": [
       "<table>\n",
       "    <thead>\n",
       "        <tr>\n",
       "            <th>passenger_id</th>\n",
       "            <th>passenger_name</th>\n",
       "            <th>ticket_no</th>\n",
       "            <th>arrival_airport</th>\n",
       "            <th>departure_airport</th>\n",
       "        </tr>\n",
       "    </thead>\n",
       "    <tbody>\n",
       "        <tr>\n",
       "            <td>0423 646487</td>\n",
       "            <td>ALEKSEY GERASIMOV</td>\n",
       "            <td>0005432312164</td>\n",
       "            <td>EGO</td>\n",
       "            <td>DME</td>\n",
       "        </tr>\n",
       "        <tr>\n",
       "            <td>0423 646487</td>\n",
       "            <td>ALEKSEY GERASIMOV</td>\n",
       "            <td>0005432312164</td>\n",
       "            <td>EGO</td>\n",
       "            <td>AAQ</td>\n",
       "        </tr>\n",
       "        <tr>\n",
       "            <td>0423 646487</td>\n",
       "            <td>ALEKSEY GERASIMOV</td>\n",
       "            <td>0005432312164</td>\n",
       "            <td>DME</td>\n",
       "            <td>EGO</td>\n",
       "        </tr>\n",
       "        <tr>\n",
       "            <td>0423 646487</td>\n",
       "            <td>ALEKSEY GERASIMOV</td>\n",
       "            <td>0005432312164</td>\n",
       "            <td>AAQ</td>\n",
       "            <td>EGO</td>\n",
       "        </tr>\n",
       "    </tbody>\n",
       "</table>"
      ],
      "text/plain": [
       "[('0423 646487', 'ALEKSEY GERASIMOV', '0005432312164', 'EGO', 'DME'),\n",
       " ('0423 646487', 'ALEKSEY GERASIMOV', '0005432312164', 'EGO', 'AAQ'),\n",
       " ('0423 646487', 'ALEKSEY GERASIMOV', '0005432312164', 'DME', 'EGO'),\n",
       " ('0423 646487', 'ALEKSEY GERASIMOV', '0005432312164', 'AAQ', 'EGO')]"
      ]
     },
     "execution_count": 56,
     "metadata": {},
     "output_type": "execute_result"
    }
   ],
   "source": [
    "%%sql $CONNECT_DATA\n",
    "SELECT passenger_id, passenger_name, b.ticket_no, arrival_airport, departure_airport\n",
    "FROM Flights f\n",
    "JOIN (SELECT passenger_id, passenger_name, a.ticket_no, flight_id \n",
    "     FROM Ticket_flights \n",
    "     JOIN (SELECT passenger_id, passenger_name, ticket_no \n",
    "          FROM Tickets\n",
    "          WHERE ticket_no = '0005432312164') as a\n",
    "      ON a.ticket_no = Ticket_flights.ticket_no) as b\n",
    "ON b.flight_id = f.flight_id\n"
   ]
  },
  {
   "cell_type": "markdown",
   "id": "6e8509ae-c2ca-4c1f-9801-679733579e2f",
   "metadata": {
    "tags": []
   },
   "source": [
    "**2. A query with no subqueries and no joins**"
   ]
  },
  {
   "cell_type": "code",
   "execution_count": 10,
   "id": "20b995a9-ba1c-4b82-917b-c1a84c55bf6b",
   "metadata": {
    "tags": []
   },
   "outputs": [
    {
     "name": "stdout",
     "output_type": "stream",
     "text": [
      "4 rows affected.\n"
     ]
    },
    {
     "data": {
      "text/html": [
       "<table>\n",
       "    <thead>\n",
       "        <tr>\n",
       "            <th>passenger_id</th>\n",
       "            <th>passenger_name</th>\n",
       "            <th>ticket_no</th>\n",
       "            <th>departure_airport</th>\n",
       "            <th>arrival_airport</th>\n",
       "        </tr>\n",
       "    </thead>\n",
       "    <tbody>\n",
       "        <tr>\n",
       "            <td>0423 646487</td>\n",
       "            <td>ALEKSEY GERASIMOV</td>\n",
       "            <td>0005432312164</td>\n",
       "            <td>DME</td>\n",
       "            <td>EGO</td>\n",
       "        </tr>\n",
       "        <tr>\n",
       "            <td>0423 646487</td>\n",
       "            <td>ALEKSEY GERASIMOV</td>\n",
       "            <td>0005432312164</td>\n",
       "            <td>AAQ</td>\n",
       "            <td>EGO</td>\n",
       "        </tr>\n",
       "        <tr>\n",
       "            <td>0423 646487</td>\n",
       "            <td>ALEKSEY GERASIMOV</td>\n",
       "            <td>0005432312164</td>\n",
       "            <td>EGO</td>\n",
       "            <td>DME</td>\n",
       "        </tr>\n",
       "        <tr>\n",
       "            <td>0423 646487</td>\n",
       "            <td>ALEKSEY GERASIMOV</td>\n",
       "            <td>0005432312164</td>\n",
       "            <td>EGO</td>\n",
       "            <td>AAQ</td>\n",
       "        </tr>\n",
       "    </tbody>\n",
       "</table>"
      ],
      "text/plain": [
       "[('0423 646487', 'ALEKSEY GERASIMOV', '0005432312164', 'DME', 'EGO'),\n",
       " ('0423 646487', 'ALEKSEY GERASIMOV', '0005432312164', 'AAQ', 'EGO'),\n",
       " ('0423 646487', 'ALEKSEY GERASIMOV', '0005432312164', 'EGO', 'DME'),\n",
       " ('0423 646487', 'ALEKSEY GERASIMOV', '0005432312164', 'EGO', 'AAQ')]"
      ]
     },
     "execution_count": 10,
     "metadata": {},
     "output_type": "execute_result"
    }
   ],
   "source": [
    "%%sql $CONNECT_DATA\n",
    "SELECT passenger_id, passenger_name, s.ticket_no, departure_airport, arrival_airport\n",
    "FROM Tickets s, Ticket_flights tf, Flights f\n",
    "WHERE s.ticket_no = tf.ticket_no\n",
    "AND tf.flight_id = f.flight_id\n",
    "AND s.ticket_no = '0005432312164'"
   ]
  },
  {
   "cell_type": "markdown",
   "id": "f92bc4fb-c6a4-4c98-9c1e-8a55a739570d",
   "metadata": {
    "tags": []
   },
   "source": [
    "**3. A query with joins**"
   ]
  },
  {
   "cell_type": "code",
   "execution_count": 12,
   "id": "d5090049-c435-419d-a5cc-1214bec7f0ca",
   "metadata": {
    "tags": []
   },
   "outputs": [
    {
     "name": "stdout",
     "output_type": "stream",
     "text": [
      "4 rows affected.\n"
     ]
    },
    {
     "data": {
      "text/html": [
       "<table>\n",
       "    <thead>\n",
       "        <tr>\n",
       "            <th>passenger_id</th>\n",
       "            <th>passenger_name</th>\n",
       "            <th>ticket_no</th>\n",
       "            <th>departure_airport</th>\n",
       "            <th>arrival_airport</th>\n",
       "        </tr>\n",
       "    </thead>\n",
       "    <tbody>\n",
       "        <tr>\n",
       "            <td>0423 646487</td>\n",
       "            <td>ALEKSEY GERASIMOV</td>\n",
       "            <td>0005432312164</td>\n",
       "            <td>DME</td>\n",
       "            <td>EGO</td>\n",
       "        </tr>\n",
       "        <tr>\n",
       "            <td>0423 646487</td>\n",
       "            <td>ALEKSEY GERASIMOV</td>\n",
       "            <td>0005432312164</td>\n",
       "            <td>AAQ</td>\n",
       "            <td>EGO</td>\n",
       "        </tr>\n",
       "        <tr>\n",
       "            <td>0423 646487</td>\n",
       "            <td>ALEKSEY GERASIMOV</td>\n",
       "            <td>0005432312164</td>\n",
       "            <td>EGO</td>\n",
       "            <td>DME</td>\n",
       "        </tr>\n",
       "        <tr>\n",
       "            <td>0423 646487</td>\n",
       "            <td>ALEKSEY GERASIMOV</td>\n",
       "            <td>0005432312164</td>\n",
       "            <td>EGO</td>\n",
       "            <td>AAQ</td>\n",
       "        </tr>\n",
       "    </tbody>\n",
       "</table>"
      ],
      "text/plain": [
       "[('0423 646487', 'ALEKSEY GERASIMOV', '0005432312164', 'DME', 'EGO'),\n",
       " ('0423 646487', 'ALEKSEY GERASIMOV', '0005432312164', 'AAQ', 'EGO'),\n",
       " ('0423 646487', 'ALEKSEY GERASIMOV', '0005432312164', 'EGO', 'DME'),\n",
       " ('0423 646487', 'ALEKSEY GERASIMOV', '0005432312164', 'EGO', 'AAQ')]"
      ]
     },
     "execution_count": 12,
     "metadata": {},
     "output_type": "execute_result"
    }
   ],
   "source": [
    "%%sql $CONNECT_DATA\n",
    "SELECT passenger_id, passenger_name, s.ticket_no, departure_airport, arrival_airport\n",
    "FROM Tickets s\n",
    "JOIN Ticket_flights USING (ticket_no) \n",
    "JOIN Flights USING (flight_id)\n",
    "WHERE s.ticket_no = '0005432312164'"
   ]
  },
  {
   "cell_type": "markdown",
   "id": "99ddcb9d-6722-44ec-9d89-5f8a00b038e5",
   "metadata": {
    "tags": []
   },
   "source": [
    "**Extended solution about Mrs. 'ELLA DMITRIEVA'** "
   ]
  },
  {
   "cell_type": "code",
   "execution_count": 34,
   "id": "ff9aa30d-1db5-4d93-b6c2-3ab0201ddf35",
   "metadata": {
    "tags": []
   },
   "outputs": [
    {
     "name": "stdout",
     "output_type": "stream",
     "text": [
      "7 rows affected.\n"
     ]
    },
    {
     "data": {
      "text/html": [
       "<table>\n",
       "    <thead>\n",
       "        <tr>\n",
       "            <th>passenger_name</th>\n",
       "            <th>flight_id</th>\n",
       "            <th>departure_city</th>\n",
       "            <th>arrival_city</th>\n",
       "        </tr>\n",
       "    </thead>\n",
       "    <tbody>\n",
       "        <tr>\n",
       "            <td>ELLA DMITRIEVA</td>\n",
       "            <td>11445</td>\n",
       "            <td>Moscow</td>\n",
       "            <td>Khanty-Mansiysk</td>\n",
       "        </tr>\n",
       "        <tr>\n",
       "            <td>ELLA DMITRIEVA</td>\n",
       "            <td>142605</td>\n",
       "            <td>Khanty-Mansiysk</td>\n",
       "            <td>Moscow</td>\n",
       "        </tr>\n",
       "        <tr>\n",
       "            <td>ELLA DMITRIEVA</td>\n",
       "            <td>34407</td>\n",
       "            <td>Moscow</td>\n",
       "            <td>Yekaterinburg</td>\n",
       "        </tr>\n",
       "        <tr>\n",
       "            <td>ELLA DMITRIEVA</td>\n",
       "            <td>70804</td>\n",
       "            <td>Yekaterinburg</td>\n",
       "            <td>Moscow</td>\n",
       "        </tr>\n",
       "        <tr>\n",
       "            <td>ELLA DMITRIEVA</td>\n",
       "            <td>74285</td>\n",
       "            <td>Yekaterinburg</td>\n",
       "            <td>Magnetiogorsk</td>\n",
       "        </tr>\n",
       "        <tr>\n",
       "            <td>ELLA DMITRIEVA</td>\n",
       "            <td>193132</td>\n",
       "            <td>Magnetiogorsk</td>\n",
       "            <td>Yekaterinburg</td>\n",
       "        </tr>\n",
       "        <tr>\n",
       "            <td>ELLA DMITRIEVA</td>\n",
       "            <td>8202</td>\n",
       "            <td>Moscow</td>\n",
       "            <td>Yuzhno-Sakhalinsk</td>\n",
       "        </tr>\n",
       "    </tbody>\n",
       "</table>"
      ],
      "text/plain": [
       "[('ELLA DMITRIEVA', 11445, 'Moscow', 'Khanty-Mansiysk'),\n",
       " ('ELLA DMITRIEVA', 142605, 'Khanty-Mansiysk', 'Moscow'),\n",
       " ('ELLA DMITRIEVA', 34407, 'Moscow', 'Yekaterinburg'),\n",
       " ('ELLA DMITRIEVA', 70804, 'Yekaterinburg', 'Moscow'),\n",
       " ('ELLA DMITRIEVA', 74285, 'Yekaterinburg', 'Magnetiogorsk'),\n",
       " ('ELLA DMITRIEVA', 193132, 'Magnetiogorsk', 'Yekaterinburg'),\n",
       " ('ELLA DMITRIEVA', 8202, 'Moscow', 'Yuzhno-Sakhalinsk')]"
      ]
     },
     "execution_count": 34,
     "metadata": {},
     "output_type": "execute_result"
    }
   ],
   "source": [
    "%%sql $CONNECT_DATA\n",
    "SELECT \n",
    "passenger_name,\n",
    "flight_id,\n",
    "a.city as departure_city, \n",
    "b.city as arrival_city\n",
    "FROM Flights f\n",
    "JOIN Ticket_flights USING (flight_id)\n",
    "JOIN Tickets USING (ticket_no)\n",
    "JOIN Airports a\n",
    "ON f.departure_airport = a.airport_code\n",
    "JOIN Airports b\n",
    "ON f.arrival_airport = b.airport_code\n",
    "WHERE passenger_name = 'ELLA DMITRIEVA'\n"
   ]
  },
  {
   "cell_type": "markdown",
   "id": "72bff0e2-5e43-42d6-8463-23ced420214f",
   "metadata": {
    "tags": []
   },
   "source": [
    "**Aircraft model/Total number of seats ordered by the number of seats**"
   ]
  },
  {
   "cell_type": "code",
   "execution_count": 43,
   "id": "d42ba8b1-2796-4448-9dec-d88482300097",
   "metadata": {
    "tags": []
   },
   "outputs": [
    {
     "name": "stdout",
     "output_type": "stream",
     "text": [
      "9 rows affected.\n"
     ]
    },
    {
     "data": {
      "text/html": [
       "<table>\n",
       "    <thead>\n",
       "        <tr>\n",
       "            <th>aircraft_model</th>\n",
       "            <th>number_of_seats_in_the_model</th>\n",
       "        </tr>\n",
       "    </thead>\n",
       "    <tbody>\n",
       "        <tr>\n",
       "            <td>Boeing 777-300</td>\n",
       "            <td>402</td>\n",
       "        </tr>\n",
       "        <tr>\n",
       "            <td>Boeing 767-300</td>\n",
       "            <td>222</td>\n",
       "        </tr>\n",
       "        <tr>\n",
       "            <td>Airbus A321-200</td>\n",
       "            <td>170</td>\n",
       "        </tr>\n",
       "        <tr>\n",
       "            <td>Airbus A320-200</td>\n",
       "            <td>140</td>\n",
       "        </tr>\n",
       "        <tr>\n",
       "            <td>Boeing 737-300</td>\n",
       "            <td>130</td>\n",
       "        </tr>\n",
       "        <tr>\n",
       "            <td>Airbus A319-100</td>\n",
       "            <td>116</td>\n",
       "        </tr>\n",
       "        <tr>\n",
       "            <td>Sukhoi Superjet-100</td>\n",
       "            <td>97</td>\n",
       "        </tr>\n",
       "        <tr>\n",
       "            <td>Bombardier CRJ-200</td>\n",
       "            <td>50</td>\n",
       "        </tr>\n",
       "        <tr>\n",
       "            <td>Cessna 208 Caravan</td>\n",
       "            <td>12</td>\n",
       "        </tr>\n",
       "    </tbody>\n",
       "</table>"
      ],
      "text/plain": [
       "[('Boeing 777-300', 402),\n",
       " ('Boeing 767-300', 222),\n",
       " ('Airbus A321-200', 170),\n",
       " ('Airbus A320-200', 140),\n",
       " ('Boeing 737-300', 130),\n",
       " ('Airbus A319-100', 116),\n",
       " ('Sukhoi Superjet-100', 97),\n",
       " ('Bombardier CRJ-200', 50),\n",
       " ('Cessna 208 Caravan', 12)]"
      ]
     },
     "execution_count": 43,
     "metadata": {},
     "output_type": "execute_result"
    }
   ],
   "source": [
    "%%sql $CONNECT_DATA\n",
    "SELECT model as Aircraft_model, COUNT(seat_no) as Number_of_seats_in_the_model\n",
    "FROM Seats s, Aircrafts a\n",
    "WHERE s.aircraft_code = a.aircraft_code\n",
    "GROUP BY model\n",
    "ORDER BY Number_of_seats_in_the_model desc"
   ]
  },
  {
   "cell_type": "code",
   "execution_count": null,
   "id": "c21e0346-57c6-463b-bec9-a44f32cc06d2",
   "metadata": {},
   "outputs": [],
   "source": [
    "#Bonus - count with fare conditions "
   ]
  },
  {
   "cell_type": "code",
   "execution_count": 46,
   "id": "2dd47a72-3768-4cbf-95bc-3fa6a04220a5",
   "metadata": {
    "tags": []
   },
   "outputs": [
    {
     "name": "stdout",
     "output_type": "stream",
     "text": [
      "17 rows affected.\n"
     ]
    },
    {
     "data": {
      "text/html": [
       "<table>\n",
       "    <thead>\n",
       "        <tr>\n",
       "            <th>aircraft_model</th>\n",
       "            <th>fare_conditions</th>\n",
       "            <th>number_of_seats_in_the_model</th>\n",
       "        </tr>\n",
       "    </thead>\n",
       "    <tbody>\n",
       "        <tr>\n",
       "            <td>Boeing 777-300</td>\n",
       "            <td>Economy</td>\n",
       "            <td>324</td>\n",
       "        </tr>\n",
       "        <tr>\n",
       "            <td>Boeing 767-300</td>\n",
       "            <td>Economy</td>\n",
       "            <td>192</td>\n",
       "        </tr>\n",
       "        <tr>\n",
       "            <td>Airbus A321-200</td>\n",
       "            <td>Economy</td>\n",
       "            <td>142</td>\n",
       "        </tr>\n",
       "        <tr>\n",
       "            <td>Airbus A320-200</td>\n",
       "            <td>Economy</td>\n",
       "            <td>120</td>\n",
       "        </tr>\n",
       "        <tr>\n",
       "            <td>Boeing 737-300</td>\n",
       "            <td>Economy</td>\n",
       "            <td>118</td>\n",
       "        </tr>\n",
       "        <tr>\n",
       "            <td>Airbus A319-100</td>\n",
       "            <td>Economy</td>\n",
       "            <td>96</td>\n",
       "        </tr>\n",
       "        <tr>\n",
       "            <td>Sukhoi Superjet-100</td>\n",
       "            <td>Economy</td>\n",
       "            <td>85</td>\n",
       "        </tr>\n",
       "        <tr>\n",
       "            <td>Bombardier CRJ-200</td>\n",
       "            <td>Economy</td>\n",
       "            <td>50</td>\n",
       "        </tr>\n",
       "        <tr>\n",
       "            <td>Boeing 777-300</td>\n",
       "            <td>Comfort</td>\n",
       "            <td>48</td>\n",
       "        </tr>\n",
       "        <tr>\n",
       "            <td>Boeing 777-300</td>\n",
       "            <td>Business</td>\n",
       "            <td>30</td>\n",
       "        </tr>\n",
       "        <tr>\n",
       "            <td>Boeing 767-300</td>\n",
       "            <td>Business</td>\n",
       "            <td>30</td>\n",
       "        </tr>\n",
       "        <tr>\n",
       "            <td>Airbus A321-200</td>\n",
       "            <td>Business</td>\n",
       "            <td>28</td>\n",
       "        </tr>\n",
       "        <tr>\n",
       "            <td>Airbus A319-100</td>\n",
       "            <td>Business</td>\n",
       "            <td>20</td>\n",
       "        </tr>\n",
       "        <tr>\n",
       "            <td>Airbus A320-200</td>\n",
       "            <td>Business</td>\n",
       "            <td>20</td>\n",
       "        </tr>\n",
       "        <tr>\n",
       "            <td>Sukhoi Superjet-100</td>\n",
       "            <td>Business</td>\n",
       "            <td>12</td>\n",
       "        </tr>\n",
       "        <tr>\n",
       "            <td>Cessna 208 Caravan</td>\n",
       "            <td>Economy</td>\n",
       "            <td>12</td>\n",
       "        </tr>\n",
       "        <tr>\n",
       "            <td>Boeing 737-300</td>\n",
       "            <td>Business</td>\n",
       "            <td>12</td>\n",
       "        </tr>\n",
       "    </tbody>\n",
       "</table>"
      ],
      "text/plain": [
       "[('Boeing 777-300', 'Economy', 324),\n",
       " ('Boeing 767-300', 'Economy', 192),\n",
       " ('Airbus A321-200', 'Economy', 142),\n",
       " ('Airbus A320-200', 'Economy', 120),\n",
       " ('Boeing 737-300', 'Economy', 118),\n",
       " ('Airbus A319-100', 'Economy', 96),\n",
       " ('Sukhoi Superjet-100', 'Economy', 85),\n",
       " ('Bombardier CRJ-200', 'Economy', 50),\n",
       " ('Boeing 777-300', 'Comfort', 48),\n",
       " ('Boeing 777-300', 'Business', 30),\n",
       " ('Boeing 767-300', 'Business', 30),\n",
       " ('Airbus A321-200', 'Business', 28),\n",
       " ('Airbus A319-100', 'Business', 20),\n",
       " ('Airbus A320-200', 'Business', 20),\n",
       " ('Sukhoi Superjet-100', 'Business', 12),\n",
       " ('Cessna 208 Caravan', 'Economy', 12),\n",
       " ('Boeing 737-300', 'Business', 12)]"
      ]
     },
     "execution_count": 46,
     "metadata": {},
     "output_type": "execute_result"
    }
   ],
   "source": [
    "%%sql $CONNECT_DATA\n",
    "SELECT model as Aircraft_model, fare_conditions, COUNT(seat_no) as Number_of_seats_in_the_model\n",
    "FROM Seats s, Aircrafts a\n",
    "WHERE s.aircraft_code = a.aircraft_code\n",
    "GROUP BY model, fare_conditions\n",
    "ORDER BY Number_of_seats_in_the_model desc"
   ]
  },
  {
   "cell_type": "code",
   "execution_count": null,
   "id": "d25785ac-4848-4c2d-aa31-290bfe4b38ab",
   "metadata": {},
   "outputs": [],
   "source": []
  }
 ],
 "metadata": {
  "kernelspec": {
   "display_name": "Python 3 (ipykernel)",
   "language": "python",
   "name": "python3"
  },
  "language_info": {
   "codemirror_mode": {
    "name": "ipython",
    "version": 3
   },
   "file_extension": ".py",
   "mimetype": "text/x-python",
   "name": "python",
   "nbconvert_exporter": "python",
   "pygments_lexer": "ipython3",
   "version": "3.10.8"
  }
 },
 "nbformat": 4,
 "nbformat_minor": 5
}
