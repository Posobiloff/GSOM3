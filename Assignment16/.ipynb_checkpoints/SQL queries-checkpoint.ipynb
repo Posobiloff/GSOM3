{
 "cells": [
  {
   "cell_type": "code",
   "execution_count": 1,
   "id": "874565a1-0032-471f-81c3-020b34b903e8",
   "metadata": {
    "tags": []
   },
   "outputs": [
    {
     "name": "stdout",
     "output_type": "stream",
     "text": [
      "Requirement already satisfied: ipython-sql in /opt/conda/lib/python3.10/site-packages (0.5.0)\n",
      "Requirement already satisfied: sqlparse in /opt/conda/lib/python3.10/site-packages (from ipython-sql) (0.4.4)\n",
      "Requirement already satisfied: sqlalchemy>=2.0 in /opt/conda/lib/python3.10/site-packages (from ipython-sql) (2.0.7)\n",
      "Requirement already satisfied: six in /opt/conda/lib/python3.10/site-packages (from ipython-sql) (1.16.0)\n",
      "Requirement already satisfied: ipython-genutils in /opt/conda/lib/python3.10/site-packages (from ipython-sql) (0.2.0)\n",
      "Requirement already satisfied: prettytable in /opt/conda/lib/python3.10/site-packages (from ipython-sql) (3.7.0)\n",
      "Requirement already satisfied: ipython in /opt/conda/lib/python3.10/site-packages (from ipython-sql) (8.11.0)\n",
      "Requirement already satisfied: greenlet!=0.4.17 in /opt/conda/lib/python3.10/site-packages (from sqlalchemy>=2.0->ipython-sql) (2.0.2)\n",
      "Requirement already satisfied: typing-extensions>=4.2.0 in /opt/conda/lib/python3.10/site-packages (from sqlalchemy>=2.0->ipython-sql) (4.5.0)\n",
      "Requirement already satisfied: jedi>=0.16 in /opt/conda/lib/python3.10/site-packages (from ipython->ipython-sql) (0.18.2)\n",
      "Requirement already satisfied: prompt-toolkit!=3.0.37,<3.1.0,>=3.0.30 in /opt/conda/lib/python3.10/site-packages (from ipython->ipython-sql) (3.0.38)\n",
      "Requirement already satisfied: pygments>=2.4.0 in /opt/conda/lib/python3.10/site-packages (from ipython->ipython-sql) (2.14.0)\n",
      "Requirement already satisfied: decorator in /opt/conda/lib/python3.10/site-packages (from ipython->ipython-sql) (5.1.1)\n",
      "Requirement already satisfied: pickleshare in /opt/conda/lib/python3.10/site-packages (from ipython->ipython-sql) (0.7.5)\n",
      "Requirement already satisfied: matplotlib-inline in /opt/conda/lib/python3.10/site-packages (from ipython->ipython-sql) (0.1.6)\n",
      "Requirement already satisfied: stack-data in /opt/conda/lib/python3.10/site-packages (from ipython->ipython-sql) (0.6.2)\n",
      "Requirement already satisfied: pexpect>4.3 in /opt/conda/lib/python3.10/site-packages (from ipython->ipython-sql) (4.8.0)\n",
      "Requirement already satisfied: backcall in /opt/conda/lib/python3.10/site-packages (from ipython->ipython-sql) (0.2.0)\n",
      "Requirement already satisfied: traitlets>=5 in /opt/conda/lib/python3.10/site-packages (from ipython->ipython-sql) (5.9.0)\n",
      "Requirement already satisfied: wcwidth in /opt/conda/lib/python3.10/site-packages (from prettytable->ipython-sql) (0.2.6)\n",
      "Requirement already satisfied: parso<0.9.0,>=0.8.0 in /opt/conda/lib/python3.10/site-packages (from jedi>=0.16->ipython->ipython-sql) (0.8.3)\n",
      "Requirement already satisfied: ptyprocess>=0.5 in /opt/conda/lib/python3.10/site-packages (from pexpect>4.3->ipython->ipython-sql) (0.7.0)\n",
      "Requirement already satisfied: asttokens>=2.1.0 in /opt/conda/lib/python3.10/site-packages (from stack-data->ipython->ipython-sql) (2.2.1)\n",
      "Requirement already satisfied: pure-eval in /opt/conda/lib/python3.10/site-packages (from stack-data->ipython->ipython-sql) (0.2.2)\n",
      "Requirement already satisfied: executing>=1.2.0 in /opt/conda/lib/python3.10/site-packages (from stack-data->ipython->ipython-sql) (1.2.0)\n",
      "\u001b[33mWARNING: There was an error checking the latest version of pip.\u001b[0m\u001b[33m\n",
      "\u001b[0m"
     ]
    }
   ],
   "source": [
    "!pip install ipython-sql\n",
    "%load_ext sql\n",
    "import os\n",
    "USER = os.environ['POSTGRESQL_USER']\n",
    "PASSWORD = os.environ['POSTGRESQL_PASSWORD']\n",
    "POSTGRESQL_HOST = '10.129.0.25'\n",
    "DBASE_NAME = 'demo'\n",
    "CONNECT_DATA = 'postgresql://{}:{}@{}/{}'.format(\n",
    "    USER,\n",
    "    PASSWORD,\n",
    "    POSTGRESQL_HOST,\n",
    "    DBASE_NAME\n",
    ")"
   ]
  },
  {
   "cell_type": "code",
   "execution_count": 2,
   "id": "519653de-c986-414e-94da-7c7a0ece2aeb",
   "metadata": {
    "tags": []
   },
   "outputs": [
    {
     "name": "stdout",
     "output_type": "stream",
     "text": [
      "7 rows affected.\n"
     ]
    },
    {
     "data": {
      "text/html": [
       "<table>\n",
       "    <thead>\n",
       "        <tr>\n",
       "            <th>arrival_airport</th>\n",
       "            <th>aircraft_code</th>\n",
       "        </tr>\n",
       "    </thead>\n",
       "    <tbody>\n",
       "        <tr>\n",
       "            <td>AER</td>\n",
       "            <td>773</td>\n",
       "        </tr>\n",
       "        <tr>\n",
       "            <td>AER</td>\n",
       "            <td>733</td>\n",
       "        </tr>\n",
       "        <tr>\n",
       "            <td>AER</td>\n",
       "            <td>763</td>\n",
       "        </tr>\n",
       "        <tr>\n",
       "            <td>AER</td>\n",
       "            <td>CN1</td>\n",
       "        </tr>\n",
       "        <tr>\n",
       "            <td>AER</td>\n",
       "            <td>SU9</td>\n",
       "        </tr>\n",
       "        <tr>\n",
       "            <td>AER</td>\n",
       "            <td>CR2</td>\n",
       "        </tr>\n",
       "        <tr>\n",
       "            <td>AER</td>\n",
       "            <td>319</td>\n",
       "        </tr>\n",
       "    </tbody>\n",
       "</table>"
      ],
      "text/plain": [
       "[('AER', '773'),\n",
       " ('AER', '733'),\n",
       " ('AER', '763'),\n",
       " ('AER', 'CN1'),\n",
       " ('AER', 'SU9'),\n",
       " ('AER', 'CR2'),\n",
       " ('AER', '319')]"
      ]
     },
     "execution_count": 2,
     "metadata": {},
     "output_type": "execute_result"
    }
   ],
   "source": [
    "%%sql $CONNECT_DATA\n",
    "SELECT distinct arrival_airport, aircraft_code FROM flights f\n",
    "WHERE f.arrival_airport='AER'\n"
   ]
  },
  {
   "cell_type": "markdown",
   "id": "58f702f1-c195-4264-aed0-9ccbcf3f732d",
   "metadata": {
    "tags": []
   },
   "source": [
    "**№1 Which fare conditions are available for flights from AER to SVO (i.e. from Adler/Sochi to Sheremetevo/Moscow)**"
   ]
  },
  {
   "cell_type": "code",
   "execution_count": 27,
   "id": "ab6d251c-047e-4577-91e7-d7f878e7a8a3",
   "metadata": {},
   "outputs": [
    {
     "name": "stdout",
     "output_type": "stream",
     "text": [
      "3 rows affected.\n"
     ]
    },
    {
     "data": {
      "text/html": [
       "<table>\n",
       "    <thead>\n",
       "        <tr>\n",
       "            <th>available_fare_conditions_from_aer_to_svo</th>\n",
       "        </tr>\n",
       "    </thead>\n",
       "    <tbody>\n",
       "        <tr>\n",
       "            <td>Business</td>\n",
       "        </tr>\n",
       "        <tr>\n",
       "            <td>Comfort</td>\n",
       "        </tr>\n",
       "        <tr>\n",
       "            <td>Economy</td>\n",
       "        </tr>\n",
       "    </tbody>\n",
       "</table>"
      ],
      "text/plain": [
       "[('Business',), ('Comfort',), ('Economy',)]"
      ]
     },
     "execution_count": 27,
     "metadata": {},
     "output_type": "execute_result"
    }
   ],
   "source": [
    "%%sql $CONNECT_DATA\n",
    "    SELECT distinct fare_conditions as Available_fare_conditions_from_AER_to_SVO \n",
    "    FROM Ticket_flights \n",
    "    WHERE flight_id in (SELECT flight_id FROM Flights\n",
    "    WHERE departure_airport = 'AER' and arrival_airport = 'SVO')\n"
   ]
  },
  {
   "cell_type": "markdown",
   "id": "39adc717-6335-4202-8116-19e4b2109d5c",
   "metadata": {
    "tags": []
   },
   "source": [
    "**№2 A list of aircraft models which fly to the Yakutsk AND Abakan cities**"
   ]
  },
  {
   "cell_type": "code",
   "execution_count": 65,
   "id": "21315f9b-5ad2-4e42-ad3e-dacea017482d",
   "metadata": {
    "tags": []
   },
   "outputs": [
    {
     "name": "stdout",
     "output_type": "stream",
     "text": [
      "1 rows affected.\n"
     ]
    },
    {
     "data": {
      "text/html": [
       "<table>\n",
       "    <thead>\n",
       "        <tr>\n",
       "            <th>aircraft_models_which_fly_to_the_yakutsk_and_abakan</th>\n",
       "        </tr>\n",
       "    </thead>\n",
       "    <tbody>\n",
       "        <tr>\n",
       "            <td>Airbus A319-100</td>\n",
       "        </tr>\n",
       "    </tbody>\n",
       "</table>"
      ],
      "text/plain": [
       "[('Airbus A319-100',)]"
      ]
     },
     "execution_count": 65,
     "metadata": {},
     "output_type": "execute_result"
    }
   ],
   "source": [
    "%%sql $CONNECT_DATA\n",
    "    SELECT model as aircraft_models_which_fly_to_the_Yakutsk_AND_Abakan\n",
    "    FROM Aircrafts\n",
    "    WHERE aircraft_code in (SELECT distinct aircraft_code \n",
    "                            FROM Flights\n",
    "                            WHERE arrival_airport = (SELECT distinct airport_code \n",
    "                                                      FROM Airports\n",
    "                                                      WHERE city = 'Yakutsk'))\n",
    "           AND\n",
    "               aircraft_code in (SELECT distinct aircraft_code \n",
    "                            FROM Flights\n",
    "                            WHERE arrival_airport = (SELECT distinct airport_code \n",
    "                                                      FROM Airports\n",
    "                                                      WHERE city = 'Abakan'))"
   ]
  },
  {
   "cell_type": "markdown",
   "id": "99176f3a-cf29-4093-831a-2daf5652e020",
   "metadata": {},
   "source": [
    "**№ 3 A list of aircraft models which fly to the Yakutsk OR Abakan cities**"
   ]
  },
  {
   "cell_type": "code",
   "execution_count": 66,
   "id": "486edf2e-e452-4045-89ed-240f444c9805",
   "metadata": {
    "tags": []
   },
   "outputs": [
    {
     "name": "stdout",
     "output_type": "stream",
     "text": [
      "5 rows affected.\n"
     ]
    },
    {
     "data": {
      "text/html": [
       "<table>\n",
       "    <thead>\n",
       "        <tr>\n",
       "            <th>aircraft_models_which_fly_to_the_yakutsk_and_abakan</th>\n",
       "        </tr>\n",
       "    </thead>\n",
       "    <tbody>\n",
       "        <tr>\n",
       "            <td>Sukhoi Superjet-100</td>\n",
       "        </tr>\n",
       "        <tr>\n",
       "            <td>Airbus A319-100</td>\n",
       "        </tr>\n",
       "        <tr>\n",
       "            <td>Boeing 737-300</td>\n",
       "        </tr>\n",
       "        <tr>\n",
       "            <td>Cessna 208 Caravan</td>\n",
       "        </tr>\n",
       "        <tr>\n",
       "            <td>Bombardier CRJ-200</td>\n",
       "        </tr>\n",
       "    </tbody>\n",
       "</table>"
      ],
      "text/plain": [
       "[('Sukhoi Superjet-100',),\n",
       " ('Airbus A319-100',),\n",
       " ('Boeing 737-300',),\n",
       " ('Cessna 208 Caravan',),\n",
       " ('Bombardier CRJ-200',)]"
      ]
     },
     "execution_count": 66,
     "metadata": {},
     "output_type": "execute_result"
    }
   ],
   "source": [
    "%%sql $CONNECT_DATA\n",
    "    SELECT model as aircraft_models_which_fly_to_the_Yakutsk_AND_Abakan\n",
    "    FROM Aircrafts\n",
    "    WHERE aircraft_code in (SELECT distinct aircraft_code \n",
    "                            FROM Flights\n",
    "                            WHERE arrival_airport = (SELECT distinct airport_code \n",
    "                                                      FROM Airports\n",
    "                                                      WHERE city = 'Yakutsk'))\n",
    "           OR\n",
    "               aircraft_code in (SELECT distinct aircraft_code \n",
    "                            FROM Flights\n",
    "                            WHERE arrival_airport = (SELECT distinct airport_code \n",
    "                                                      FROM Airports\n",
    "                                                      WHERE city = 'Abakan'))"
   ]
  },
  {
   "cell_type": "markdown",
   "id": "04aedf1c-5d1f-4fc3-967d-be00fe974bed",
   "metadata": {
    "tags": []
   },
   "source": [
    "**№ 4 A list of aircrafts which DON’T fly to Yakutsk city**"
   ]
  },
  {
   "cell_type": "code",
   "execution_count": 70,
   "id": "e1b9a085-e9d4-437a-beee-a8c54c4e37c6",
   "metadata": {
    "tags": []
   },
   "outputs": [
    {
     "name": "stdout",
     "output_type": "stream",
     "text": [
      "6 rows affected.\n"
     ]
    },
    {
     "data": {
      "text/html": [
       "<table>\n",
       "    <thead>\n",
       "        <tr>\n",
       "            <th>aircraft_models_which_fly_to_the_yakutsk_and_abakan</th>\n",
       "        </tr>\n",
       "    </thead>\n",
       "    <tbody>\n",
       "        <tr>\n",
       "            <td>Boeing 777-300</td>\n",
       "        </tr>\n",
       "        <tr>\n",
       "            <td>Boeing 767-300</td>\n",
       "        </tr>\n",
       "        <tr>\n",
       "            <td>Airbus A320-200</td>\n",
       "        </tr>\n",
       "        <tr>\n",
       "            <td>Airbus A321-200</td>\n",
       "        </tr>\n",
       "        <tr>\n",
       "            <td>Boeing 737-300</td>\n",
       "        </tr>\n",
       "        <tr>\n",
       "            <td>Cessna 208 Caravan</td>\n",
       "        </tr>\n",
       "    </tbody>\n",
       "</table>"
      ],
      "text/plain": [
       "[('Boeing 777-300',),\n",
       " ('Boeing 767-300',),\n",
       " ('Airbus A320-200',),\n",
       " ('Airbus A321-200',),\n",
       " ('Boeing 737-300',),\n",
       " ('Cessna 208 Caravan',)]"
      ]
     },
     "execution_count": 70,
     "metadata": {},
     "output_type": "execute_result"
    }
   ],
   "source": [
    "%%sql $CONNECT_DATA\n",
    "    SELECT model as aircraft_models_which_fly_to_the_Yakutsk_AND_Abakan\n",
    "    FROM Aircrafts\n",
    "    WHERE aircraft_code not in (SELECT distinct aircraft_code \n",
    "                            FROM Flights\n",
    "                            WHERE arrival_airport = (SELECT distinct airport_code \n",
    "                                                      FROM Airports\n",
    "                                                      WHERE city = 'Yakutsk'))"
   ]
  },
  {
   "cell_type": "code",
   "execution_count": null,
   "id": "9ac2c5f0-ce82-48cd-8996-d850fdcbeccc",
   "metadata": {},
   "outputs": [],
   "source": [
    "#additional check - A list of aircrafts which DO fly to Yakutsk city"
   ]
  },
  {
   "cell_type": "code",
   "execution_count": 71,
   "id": "547f263e-1ed3-4055-bb23-76cb2607125f",
   "metadata": {
    "tags": []
   },
   "outputs": [
    {
     "name": "stdout",
     "output_type": "stream",
     "text": [
      "3 rows affected.\n"
     ]
    },
    {
     "data": {
      "text/html": [
       "<table>\n",
       "    <thead>\n",
       "        <tr>\n",
       "            <th>aircraft_models_which_fly_to_the_yakutsk_and_abakan</th>\n",
       "        </tr>\n",
       "    </thead>\n",
       "    <tbody>\n",
       "        <tr>\n",
       "            <td>Sukhoi Superjet-100</td>\n",
       "        </tr>\n",
       "        <tr>\n",
       "            <td>Airbus A319-100</td>\n",
       "        </tr>\n",
       "        <tr>\n",
       "            <td>Bombardier CRJ-200</td>\n",
       "        </tr>\n",
       "    </tbody>\n",
       "</table>"
      ],
      "text/plain": [
       "[('Sukhoi Superjet-100',), ('Airbus A319-100',), ('Bombardier CRJ-200',)]"
      ]
     },
     "execution_count": 71,
     "metadata": {},
     "output_type": "execute_result"
    }
   ],
   "source": [
    "%%sql $CONNECT_DATA\n",
    "    SELECT model as aircraft_models_which_fly_to_the_Yakutsk_AND_Abakan\n",
    "    FROM Aircrafts\n",
    "    WHERE aircraft_code in (SELECT distinct aircraft_code \n",
    "                            FROM Flights\n",
    "                            WHERE arrival_airport = (SELECT distinct airport_code \n",
    "                                                      FROM Airports\n",
    "                                                      WHERE city = 'Yakutsk'))"
   ]
  },
  {
   "cell_type": "markdown",
   "id": "bd68654d-73d0-4303-8e70-6ad5e784cb33",
   "metadata": {
    "tags": []
   },
   "source": [
    "**№ 5 Find out airport codes related to Mrs. 'ELLA DMITRIEVA'  - from where and to where she flew.**"
   ]
  },
  {
   "cell_type": "code",
   "execution_count": 77,
   "id": "1a0f0d6e-9e7c-42f2-ab14-f4e9007de9c1",
   "metadata": {
    "tags": []
   },
   "outputs": [
    {
     "name": "stdout",
     "output_type": "stream",
     "text": [
      "7 rows affected.\n"
     ]
    },
    {
     "data": {
      "text/html": [
       "<table>\n",
       "    <thead>\n",
       "        <tr>\n",
       "            <th>departure_airport_of_ms_ella_dmitirieva</th>\n",
       "            <th>arrival_airport_of_ms_ella_dmitirieva</th>\n",
       "        </tr>\n",
       "    </thead>\n",
       "    <tbody>\n",
       "        <tr>\n",
       "            <td>SVO</td>\n",
       "            <td>SVX</td>\n",
       "        </tr>\n",
       "        <tr>\n",
       "            <td>MQF</td>\n",
       "            <td>SVX</td>\n",
       "        </tr>\n",
       "        <tr>\n",
       "            <td>SVX</td>\n",
       "            <td>MQF</td>\n",
       "        </tr>\n",
       "        <tr>\n",
       "            <td>SVX</td>\n",
       "            <td>SVO</td>\n",
       "        </tr>\n",
       "        <tr>\n",
       "            <td>DME</td>\n",
       "            <td>HMA</td>\n",
       "        </tr>\n",
       "        <tr>\n",
       "            <td>DME</td>\n",
       "            <td>UUS</td>\n",
       "        </tr>\n",
       "        <tr>\n",
       "            <td>HMA</td>\n",
       "            <td>DME</td>\n",
       "        </tr>\n",
       "    </tbody>\n",
       "</table>"
      ],
      "text/plain": [
       "[('SVO', 'SVX'),\n",
       " ('MQF', 'SVX'),\n",
       " ('SVX', 'MQF'),\n",
       " ('SVX', 'SVO'),\n",
       " ('DME', 'HMA'),\n",
       " ('DME', 'UUS'),\n",
       " ('HMA', 'DME')]"
      ]
     },
     "execution_count": 77,
     "metadata": {},
     "output_type": "execute_result"
    }
   ],
   "source": [
    "%%sql $CONNECT_DATA\n",
    "SELECT departure_airport as departure_airport_of_Ms_Ella_Dmitirieva, \n",
    "arrival_airport as arrival_airport_of_Ms_Ella_Dmitirieva\n",
    "FROM Flights\n",
    "WHERE flight_id in (SELECT flight_id \n",
    "                    FROM Ticket_flights\n",
    "                    WHERE ticket_no in (SELECT ticket_no \n",
    "                                        FROM Tickets\n",
    "                                        WHERE passenger_name = 'ELLA DMITRIEVA'))"
   ]
  },
  {
   "cell_type": "code",
   "execution_count": null,
   "id": "652065d6-7a00-43af-9a25-9961dc6bd54b",
   "metadata": {},
   "outputs": [],
   "source": [
    "#WOW, she travelled to my hometown (Magnitogorsk, MQF) even!"
   ]
  }
 ],
 "metadata": {
  "kernelspec": {
   "display_name": "Python 3 (ipykernel)",
   "language": "python",
   "name": "python3"
  },
  "language_info": {
   "codemirror_mode": {
    "name": "ipython",
    "version": 3
   },
   "file_extension": ".py",
   "mimetype": "text/x-python",
   "name": "python",
   "nbconvert_exporter": "python",
   "pygments_lexer": "ipython3",
   "version": "3.10.9"
  }
 },
 "nbformat": 4,
 "nbformat_minor": 5
}
