{
 "cells": [
  {
   "cell_type": "code",
   "execution_count": 1,
   "id": "bf7c3a59-ccbc-4e2d-a5eb-da64308a5a94",
   "metadata": {
    "tags": []
   },
   "outputs": [],
   "source": [
    "import requests"
   ]
  },
  {
   "cell_type": "code",
   "execution_count": 15,
   "id": "8b7ebdb6-a9bb-4e3f-9a4f-de56fcfcc20e",
   "metadata": {},
   "outputs": [
    {
     "name": "stdout",
     "output_type": "stream",
     "text": [
      "In the web page there are 29 .png files\n"
     ]
    }
   ],
   "source": [
    "#1. This code counts the number of .png files in the web page\n",
    "r = requests.get(\"https://gsom.spbu.ru/en/\")\n",
    "r_content = str(r.content)\n",
    "pngs = r_content.count(\".png\")\n",
    "print(f\"In the web page there are {pngs} .png files\")"
   ]
  },
  {
   "cell_type": "code",
   "execution_count": 46,
   "id": "2c24794d-2860-4dd4-acdd-0690d1ef86bf",
   "metadata": {
    "tags": []
   },
   "outputs": [
    {
     "data": {
      "text/plain": [
       "28109"
      ]
     },
     "execution_count": 46,
     "metadata": {},
     "output_type": "execute_result"
    }
   ],
   "source": [
    "#2. This code extract the first .png from the web page\n",
    "r = requests.get(\"https://gsom.spbu.ru/en/\")\n",
    "r_content = str(r.content)\n",
    "f_png = r_content.find(\".png\")\n",
    "f_index = r_content.rfind(\"/t\", 0, f_png)\n",
    "l_index = r_content.find(\".png\", f_png) + 4\n",
    "l_part = r_content[f_index:l_index]\n",
    "f_part = \"https://gsom.spbu.ru\"\n",
    "whole = f_part+l_part\n",
    "w_b = requests.get(whole)\n",
    "file = open(\"/home/jovyan/PyProject1/GSOM3/Assignment12/GSOM.png\", \"wb\")\n",
    "file.write(w_b.content)"
   ]
  },
  {
   "cell_type": "code",
   "execution_count": null,
   "id": "bd98fa7e-13e1-405c-972e-b58bb184f609",
   "metadata": {},
   "outputs": [],
   "source": []
  }
 ],
 "metadata": {
  "kernelspec": {
   "display_name": "Python 3 (ipykernel)",
   "language": "python",
   "name": "python3"
  },
  "language_info": {
   "codemirror_mode": {
    "name": "ipython",
    "version": 3
   },
   "file_extension": ".py",
   "mimetype": "text/x-python",
   "name": "python",
   "nbconvert_exporter": "python",
   "pygments_lexer": "ipython3",
   "version": "3.10.9"
  }
 },
 "nbformat": 4,
 "nbformat_minor": 5
}
