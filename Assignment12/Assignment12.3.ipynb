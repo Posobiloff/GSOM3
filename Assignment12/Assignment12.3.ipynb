{
 "cells": [
  {
   "cell_type": "code",
   "execution_count": 74,
   "id": "175cd0ae-729c-4d9a-b676-1f5cc4639dd8",
   "metadata": {
    "tags": []
   },
   "outputs": [],
   "source": [
    "def bubble_sorting(integers):\n",
    "    n = len(integers)\n",
    "    for i in integers:\n",
    "        for j in range(0, n-1):\n",
    "            if integers[j] > integers[j+1]:\n",
    "                integers[j], integers[j+1] = integers[j+1], integers[j]\n",
    "    return (integers)"
   ]
  },
  {
   "cell_type": "code",
   "execution_count": 68,
   "id": "fff7c2f3-8175-4f55-b99d-7d3c2ed800ac",
   "metadata": {
    "tags": []
   },
   "outputs": [
    {
     "name": "stdout",
     "output_type": "stream",
     "text": [
      "[1, 2, 3, 4, 5, 6, 7, 8, 9, 10, 11, 12, 13, 14, 15, 16, 17, 18, 19, 20]\n"
     ]
    }
   ],
   "source": [
    "print(bubble_sorting([1, 8, 7, 6, 5, 4, 3, 2, 9, 11, 17, 20, 12, 14, 13, 15, 16, 10, 19, 18]))"
   ]
  },
  {
   "cell_type": "code",
   "execution_count": 69,
   "id": "777dff89-2e04-46b4-8906-3da1d64426bb",
   "metadata": {
    "tags": []
   },
   "outputs": [
    {
     "name": "stdout",
     "output_type": "stream",
     "text": [
      "[1, 1, 1, 1, 1, 1, 1, 1, 1, 1, 1, 1, 1, 1, 2, 2, 2, 2, 2, 2]\n"
     ]
    }
   ],
   "source": [
    "print(bubble_sorting([1, 1, 1, 1, 1, 2, 2, 2, 2, 2, 2, 1, 1, 1, 1, 1, 1, 1, 1, 1]))"
   ]
  },
  {
   "cell_type": "code",
   "execution_count": 76,
   "id": "e0398c71-2d93-4f53-99f3-f90bc9e81a84",
   "metadata": {
    "tags": []
   },
   "outputs": [
    {
     "name": "stdout",
     "output_type": "stream",
     "text": [
      "[1, 2, 3]\n"
     ]
    }
   ],
   "source": [
    "print(bubble_sorting([1, 3, 2]))"
   ]
  },
  {
   "cell_type": "code",
   "execution_count": 71,
   "id": "d11eeb0b-264b-47b8-b560-bfc3c4a9f2cb",
   "metadata": {
    "tags": []
   },
   "outputs": [
    {
     "name": "stdout",
     "output_type": "stream",
     "text": [
      "[1, 7, 8, 100]\n"
     ]
    }
   ],
   "source": [
    "print(bubble_sorting([1, 7, 8, 100]))"
   ]
  },
  {
   "cell_type": "code",
   "execution_count": null,
   "id": "04b45a6a-91c6-443c-879d-cb56fe0639e5",
   "metadata": {},
   "outputs": [],
   "source": []
  }
 ],
 "metadata": {
  "kernelspec": {
   "display_name": "Python 3 (ipykernel)",
   "language": "python",
   "name": "python3"
  },
  "language_info": {
   "codemirror_mode": {
    "name": "ipython",
    "version": 3
   },
   "file_extension": ".py",
   "mimetype": "text/x-python",
   "name": "python",
   "nbconvert_exporter": "python",
   "pygments_lexer": "ipython3",
   "version": "3.10.9"
  }
 },
 "nbformat": 4,
 "nbformat_minor": 5
}
