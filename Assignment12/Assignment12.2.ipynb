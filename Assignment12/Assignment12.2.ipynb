{
 "cells": [
  {
   "cell_type": "code",
   "execution_count": 20,
   "id": "839c7be6-cfb8-4a9c-89fd-9d20a3ea7853",
   "metadata": {
    "tags": []
   },
   "outputs": [
    {
     "data": {
      "text/plain": [
       "array([ 1000,  2000,  3000,  4000,  5000,  6000,  7000,  8000,  9000,\n",
       "       10000])"
      ]
     },
     "execution_count": 20,
     "metadata": {},
     "output_type": "execute_result"
    }
   ],
   "source": [
    "import numpy as np\n",
    "income = np.array([1000, 2000, 3000, 4000, 5000, 6000, 7000, 8000, 9000, 10000], dtype = int)\n",
    "income"
   ]
  },
  {
   "cell_type": "code",
   "execution_count": 30,
   "id": "dfdb9877-b792-419a-91c8-2fe8e5ba099e",
   "metadata": {
    "tags": []
   },
   "outputs": [
    {
     "data": {
      "text/plain": [
       "array([ 700., 1400., 2100., 2800., 3500., 4200., 4900., 5600., 6300.,\n",
       "       7000.])"
      ]
     },
     "execution_count": 30,
     "metadata": {},
     "output_type": "execute_result"
    }
   ],
   "source": [
    "income_without_tax = income * 0.7\n",
    "income_without_tax"
   ]
  },
  {
   "cell_type": "code",
   "execution_count": 31,
   "id": "7c47b27e-4cff-4841-a0f4-11d6b5e71155",
   "metadata": {
    "tags": []
   },
   "outputs": [
    {
     "data": {
      "text/plain": [
       "array([ 500, 1000, 1000, 2000, 2000, 3000, 3000, 4000, 3000, 2000])"
      ]
     },
     "execution_count": 31,
     "metadata": {},
     "output_type": "execute_result"
    }
   ],
   "source": [
    "expenses = np.array([500, 1000, 1000, 2000, 2000, 3000, 3000, 4000, 3000, 2000], dtype = int)\n",
    "expenses"
   ]
  },
  {
   "cell_type": "code",
   "execution_count": 39,
   "id": "664a8929-8a5e-47ad-8f08-ba2f9bb3b9aa",
   "metadata": {
    "tags": []
   },
   "outputs": [
    {
     "data": {
      "text/html": [
       "<div>\n",
       "<style scoped>\n",
       "    .dataframe tbody tr th:only-of-type {\n",
       "        vertical-align: middle;\n",
       "    }\n",
       "\n",
       "    .dataframe tbody tr th {\n",
       "        vertical-align: top;\n",
       "    }\n",
       "\n",
       "    .dataframe thead th {\n",
       "        text-align: right;\n",
       "    }\n",
       "</style>\n",
       "<table border=\"1\" class=\"dataframe\">\n",
       "  <thead>\n",
       "    <tr style=\"text-align: right;\">\n",
       "      <th></th>\n",
       "      <th>Expenses (mln. $)</th>\n",
       "      <th>Income without tax (mln. $)</th>\n",
       "    </tr>\n",
       "  </thead>\n",
       "  <tbody>\n",
       "    <tr>\n",
       "      <th>Jan.</th>\n",
       "      <td>500</td>\n",
       "      <td>700.0</td>\n",
       "    </tr>\n",
       "    <tr>\n",
       "      <th>Feb.</th>\n",
       "      <td>1000</td>\n",
       "      <td>1400.0</td>\n",
       "    </tr>\n",
       "    <tr>\n",
       "      <th>Mar.</th>\n",
       "      <td>1000</td>\n",
       "      <td>2100.0</td>\n",
       "    </tr>\n",
       "    <tr>\n",
       "      <th>Apr.</th>\n",
       "      <td>2000</td>\n",
       "      <td>2800.0</td>\n",
       "    </tr>\n",
       "    <tr>\n",
       "      <th>May</th>\n",
       "      <td>2000</td>\n",
       "      <td>3500.0</td>\n",
       "    </tr>\n",
       "    <tr>\n",
       "      <th>Jun.</th>\n",
       "      <td>3000</td>\n",
       "      <td>4200.0</td>\n",
       "    </tr>\n",
       "    <tr>\n",
       "      <th>Jul.</th>\n",
       "      <td>3000</td>\n",
       "      <td>4900.0</td>\n",
       "    </tr>\n",
       "    <tr>\n",
       "      <th>Aug.</th>\n",
       "      <td>4000</td>\n",
       "      <td>5600.0</td>\n",
       "    </tr>\n",
       "    <tr>\n",
       "      <th>Sep.</th>\n",
       "      <td>3000</td>\n",
       "      <td>6300.0</td>\n",
       "    </tr>\n",
       "    <tr>\n",
       "      <th>Oct.</th>\n",
       "      <td>2000</td>\n",
       "      <td>7000.0</td>\n",
       "    </tr>\n",
       "  </tbody>\n",
       "</table>\n",
       "</div>"
      ],
      "text/plain": [
       "      Expenses (mln. $)  Income without tax (mln. $)\n",
       "Jan.                500                        700.0\n",
       "Feb.               1000                       1400.0\n",
       "Mar.               1000                       2100.0\n",
       "Apr.               2000                       2800.0\n",
       "May                2000                       3500.0\n",
       "Jun.               3000                       4200.0\n",
       "Jul.               3000                       4900.0\n",
       "Aug.               4000                       5600.0\n",
       "Sep.               3000                       6300.0\n",
       "Oct.               2000                       7000.0"
      ]
     },
     "execution_count": 39,
     "metadata": {},
     "output_type": "execute_result"
    }
   ],
   "source": [
    "import pandas as pd\n",
    "d = {\n",
    "    \"Expenses (mln. $)\": pd.Series(expenses, [\"Jan.\", \"Feb.\", \"Mar.\", \"Apr.\", \"May\", \"Jun.\", \"Jul.\", \"Aug.\", \"Sep.\", \"Oct.\"]),\n",
    "    \"Income without tax (mln. $)\": pd.Series(income_without_tax, [\"Jan.\", \"Feb.\", \"Mar.\", \"Apr.\", \"May\", \"Jun.\", \"Jul.\", \"Aug.\", \"Sep.\", \"Oct.\"])\n",
    "}\n",
    "annual_report = pd.DataFrame(d)\n",
    "annual_report"
   ]
  },
  {
   "cell_type": "code",
   "execution_count": 42,
   "id": "6c50d5ec-40b5-4b33-8abc-8b21cba4c013",
   "metadata": {
    "tags": []
   },
   "outputs": [
    {
     "data": {
      "text/html": [
       "<div>\n",
       "<style scoped>\n",
       "    .dataframe tbody tr th:only-of-type {\n",
       "        vertical-align: middle;\n",
       "    }\n",
       "\n",
       "    .dataframe tbody tr th {\n",
       "        vertical-align: top;\n",
       "    }\n",
       "\n",
       "    .dataframe thead th {\n",
       "        text-align: right;\n",
       "    }\n",
       "</style>\n",
       "<table border=\"1\" class=\"dataframe\">\n",
       "  <thead>\n",
       "    <tr style=\"text-align: right;\">\n",
       "      <th></th>\n",
       "      <th>Expenses (mln. $)</th>\n",
       "      <th>Income without tax (mln. $)</th>\n",
       "    </tr>\n",
       "  </thead>\n",
       "  <tbody>\n",
       "    <tr>\n",
       "      <th>Jan.</th>\n",
       "      <td>500</td>\n",
       "      <td>700.0</td>\n",
       "    </tr>\n",
       "    <tr>\n",
       "      <th>Feb.</th>\n",
       "      <td>1000</td>\n",
       "      <td>1400.0</td>\n",
       "    </tr>\n",
       "    <tr>\n",
       "      <th>Mar.</th>\n",
       "      <td>1000</td>\n",
       "      <td>2100.0</td>\n",
       "    </tr>\n",
       "  </tbody>\n",
       "</table>\n",
       "</div>"
      ],
      "text/plain": [
       "      Expenses (mln. $)  Income without tax (mln. $)\n",
       "Jan.                500                        700.0\n",
       "Feb.               1000                       1400.0\n",
       "Mar.               1000                       2100.0"
      ]
     },
     "execution_count": 42,
     "metadata": {},
     "output_type": "execute_result"
    }
   ],
   "source": [
    "annual_report.iloc[:3]"
   ]
  },
  {
   "cell_type": "code",
   "execution_count": null,
   "id": "b1606d09-48ec-4a22-9405-ce9118bd6117",
   "metadata": {},
   "outputs": [],
   "source": []
  }
 ],
 "metadata": {
  "kernelspec": {
   "display_name": "Python 3 (ipykernel)",
   "language": "python",
   "name": "python3"
  },
  "language_info": {
   "codemirror_mode": {
    "name": "ipython",
    "version": 3
   },
   "file_extension": ".py",
   "mimetype": "text/x-python",
   "name": "python",
   "nbconvert_exporter": "python",
   "pygments_lexer": "ipython3",
   "version": "3.10.9"
  }
 },
 "nbformat": 4,
 "nbformat_minor": 5
}
