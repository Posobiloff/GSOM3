{
 "cells": [
  {
   "cell_type": "code",
   "execution_count": null,
   "id": "e3586170-be41-4e10-bc98-39e4ec0c6b6e",
   "metadata": {},
   "outputs": [],
   "source": [
    "#a Python function which checks if an integer is some power of another integer."
   ]
  },
  {
   "cell_type": "code",
   "execution_count": 19,
   "id": "2bb737f1-cf92-4e83-a33f-2a0a7527bea2",
   "metadata": {
    "tags": []
   },
   "outputs": [],
   "source": [
    "def is_power(num1, num2):\n",
    "    ''' This function checks \n",
    "    if the first number is the power of the second'''\n",
    "    if num1 <= 0:\n",
    "        return False\n",
    "    if num2 <= 1:\n",
    "        return num1 == 1\n",
    "    every_p = 1\n",
    "    while every_p < num1:\n",
    "        every_p *= num2\n",
    "    return every_p == num1"
   ]
  },
  {
   "cell_type": "code",
   "execution_count": 18,
   "id": "ad7f2fec-ffcd-498d-9910-71418f5c958f",
   "metadata": {
    "tags": []
   },
   "outputs": [
    {
     "data": {
      "text/plain": [
       "True"
      ]
     },
     "execution_count": 18,
     "metadata": {},
     "output_type": "execute_result"
    }
   ],
   "source": [
    "is_power(16,2)"
   ]
  },
  {
   "cell_type": "code",
   "execution_count": 14,
   "id": "0add3c16-7f6f-4f26-a05f-938fc7344374",
   "metadata": {
    "tags": []
   },
   "outputs": [
    {
     "data": {
      "text/plain": [
       "False"
      ]
     },
     "execution_count": 14,
     "metadata": {},
     "output_type": "execute_result"
    }
   ],
   "source": [
    "is_power(12,2)"
   ]
  },
  {
   "cell_type": "code",
   "execution_count": 15,
   "id": "3c556b82-c379-4a90-a433-ea411f9d0409",
   "metadata": {
    "tags": []
   },
   "outputs": [
    {
     "data": {
      "text/plain": [
       "True"
      ]
     },
     "execution_count": 15,
     "metadata": {},
     "output_type": "execute_result"
    }
   ],
   "source": [
    "is_power(100000,10) "
   ]
  },
  {
   "cell_type": "code",
   "execution_count": 16,
   "id": "e8ab8ba7-b9a6-428f-b570-ba50a387aedb",
   "metadata": {
    "tags": []
   },
   "outputs": [
    {
     "data": {
      "text/plain": [
       "False"
      ]
     },
     "execution_count": 16,
     "metadata": {},
     "output_type": "execute_result"
    }
   ],
   "source": [
    "is_power(990,9)         "
   ]
  },
  {
   "cell_type": "code",
   "execution_count": null,
   "id": "63f69dad-dfda-4136-85eb-d071f0560ec3",
   "metadata": {},
   "outputs": [],
   "source": []
  }
 ],
 "metadata": {
  "kernelspec": {
   "display_name": "Python 3 (ipykernel)",
   "language": "python",
   "name": "python3"
  },
  "language_info": {
   "codemirror_mode": {
    "name": "ipython",
    "version": 3
   },
   "file_extension": ".py",
   "mimetype": "text/x-python",
   "name": "python",
   "nbconvert_exporter": "python",
   "pygments_lexer": "ipython3",
   "version": "3.10.9"
  }
 },
 "nbformat": 4,
 "nbformat_minor": 5
}
